{
 "cells": [
  {
   "cell_type": "markdown",
   "metadata": {},
   "source": [
    "# Running Charged Defect Calculation\n",
    "\n",
    "The Formation Energy of a charged defect is given by the \n",
    "\n",
    "$E^f[X^q] = {\\color{#ff6d00}{E_{\\text{tot}}[X^q]}} - E_{\\text{tot}}[\\text{bulk}] + \\sum_i n_i\\mu_i + qE_{\\text{F}} + \\color{#ff6d00}{\\Delta^q},$\n",
    "\n",
    "## Description of Terms\n",
    "\n",
    "### Directly Obtained from Supercell DFT Calculations\n",
    "\n",
    "- **$E^f[X^q]$**: Formation energy of defect $X$ in charge state $q$\n",
    "\n",
    "- **${\\color{#ff6d00}{E_{\\text{tot}}[X^q]}}$**: Total energy of the supercell containing defect $X$ with charge $q$\n",
    "\n",
    "- **$E_{\\text{tot}}[\\text{bulk}]$**: Total energy of the perfect bulk supercell (reference state)\n",
    "\n",
    "- **$\\color{#ff6d00}{\\Delta^q}$**: Correction term for charged systems, including potential alignment and finite-size corrections\n",
    "\n",
    "### External information required\n",
    "\n",
    "- **$\\sum_i n_i\\mu_i$**: Sum of the chemical potentials of atoms added ($n_i > 0$) or removed ($n_i < 0$). Needs the MP phase diagram for competing phases.\n",
    "\n",
    "- **$qE_{\\text{F}}$**: Energy contribution adding/removing electron, where $E_{\\text{F}}$ is the Fermi level. Needs a high quality band structure calculation of the bulk material.\n",
    "\n",
    "The <span style=\"color:#ff6d00\">orange-colored</span> terms highlight the terms that are directly obtained from the explicit charged supercell calculations. These terms are the main focus of the automated defect workflow in `atomate2` since these are the terms that are unique for each charge state. Their contributions are combined in the \n",
    "\n",
    "This notebook will guide you through how to obtain all of these terms using DFT calculations and the Materials Project database.\n"
   ]
  },
  {
   "cell_type": "code",
   "execution_count": null,
   "metadata": {},
   "outputs": [],
   "source": [
    "# First make sure that the defect analysis add-on is installed\n",
    "# If the defect package is not installed, uncomment the following line\n",
    "# !pip install pymatgen-analysis-defects;"
   ]
  },
  {
   "cell_type": "code",
   "execution_count": null,
   "metadata": {},
   "outputs": [],
   "source": [
    "import itertools\n",
    "\n",
    "from monty.serialization import dumpfn, loadfn\n",
    "from pymatgen.analysis.defects.generators import (\n",
    "    ChargeInterstitialGenerator,\n",
    "    SubstitutionGenerator,\n",
    "    VacancyGenerator,\n",
    ")\n",
    "from pymatgen.analysis.defects.plotting.thermo import plot_formation_energy_diagrams\n",
    "from pymatgen.analysis.defects.supercells import get_sc_fromstruct\n",
    "from pymatgen.core import Structure, _load_pmg_settings\n",
    "from pymatgen.ext.matproj import MPRester\n",
    "from pymatgen.io.vasp import Chgcar\n",
    "from pymatgen.io.vasp.sets import MPScanRelaxSet\n",
    "\n",
    "from atomate2.vasp.flows.defect import FormationEnergyMaker\n",
    "from atomate2.vasp.flows.mp import MPMetaGGADoubleRelaxMaker, MPMetaGGARelaxMaker\n",
    "from atomate2.vasp.powerups import (\n",
    "    update_user_incar_settings,\n",
    "    update_user_kpoints_settings,\n",
    ")\n",
    "from atomate2.vasp.sets.defect import SPECIAL_KPOINT\n",
    "\n",
    "PMG_SETTINGS = _load_pmg_settings()\n",
    "PMG_MAPI_KEY = PMG_SETTINGS.get(\"PMG_MAPI_KEY\", None)"
   ]
  },
  {
   "cell_type": "markdown",
   "metadata": {},
   "source": [
    "## Generate the Defect Objects from MP Charge Density\n",
    "\n",
    "The vacancies and substitutional defects can be generated from the structure alone.\n",
    "\n",
    "But interstitial are best generated using the electronic charge density.\n",
    "\n",
    "We can download the charge density from the Materials Project and use it to generate all of the native point defects."
   ]
  },
  {
   "cell_type": "code",
   "execution_count": null,
   "metadata": {},
   "outputs": [],
   "source": [
    "# Make sure that you have the full featured API installed\n",
    "# via `pip install mp-api`\n",
    "if PMG_MAPI_KEY:\n",
    "    mpr = MPRester()  # or add your own API key as an argument here\n",
    "    chgcar = mpr.get_charge_density_from_material_id(\"mp-804\")\n",
    "else:\n",
    "    chgcar = Chgcar.from_file(\"./data_files/GaN-chgcar.vasp\")"
   ]
  },
  {
   "cell_type": "markdown",
   "metadata": {},
   "source": [
    "You can enumerate over different speices involved in the\n",
    "vacancy, interstitial and substitutions using the helper functions\n",
    "below."
   ]
  },
  {
   "cell_type": "code",
   "execution_count": null,
   "metadata": {},
   "outputs": [],
   "source": [
    "def _get_elements(struct: Structure) -> tuple[tuple[str], ...]:\n",
    "    \"\"\"Get the elements involved in the structures.\"\"\"\n",
    "    s_atoms = sorted(atom.symbol for atom in struct.elements)\n",
    "    return tuple((aa_,) for aa_ in s_atoms)\n",
    "\n",
    "\n",
    "def _get_subs(struct: Structure) -> tuple[dict[str, str], ...]:\n",
    "    \"\"\"Get native substitutions.\"\"\"\n",
    "    s_atoms = sorted(atom.symbol for atom in struct.elements)\n",
    "    return tuple(\n",
    "        itertools.chain.from_iterable(\n",
    "            ({a: b}, {b: a}) for a, b in itertools.combinations(s_atoms, 2)\n",
    "        )\n",
    "    )\n",
    "\n",
    "\n",
    "print(_get_elements(chgcar.structure))  # noqa: T201\n",
    "print(_get_subs(chgcar.structure))  # noqa: T201"
   ]
  },
  {
   "cell_type": "markdown",
   "metadata": {},
   "source": [
    "The different defect generators are available in the `pymatgen.analysis.defects` module each with their own set of tolerances parameters.\n",
    "\n",
    "Once those are configured,"
   ]
  },
  {
   "cell_type": "code",
   "execution_count": null,
   "metadata": {},
   "outputs": [],
   "source": [
    "VGEN = VacancyGenerator(symprec=0.01)\n",
    "IGEN = ChargeInterstitialGenerator(max_insertions=3)\n",
    "SGEN = SubstitutionGenerator(angle_tolerance=5)"
   ]
  },
  {
   "cell_type": "code",
   "execution_count": null,
   "metadata": {},
   "outputs": [],
   "source": [
    "def get_defects(chgcar: Chgcar, max_iter: int = 3):  # noqa: ANN201\n",
    "    \"\"\"Generate the defects for a chgcar.\n",
    "\n",
    "    Args:\n",
    "        chgcar: The chgcar object.\n",
    "        max_iter: The maximum number of defects of each type to generate.\n",
    "\n",
    "    Returns\n",
    "    -------\n",
    "        A generator of (defect, index) pairs.\n",
    "    \"\"\"\n",
    "    tup_el = _get_elements(chgcar.structure)\n",
    "    tup_sub = _get_subs(chgcar.structure)\n",
    "    for sub_d in tup_sub:\n",
    "        for ii, defect in enumerate(SGEN.generate(chgcar.structure, sub_d)):\n",
    "            if ii < max_iter:\n",
    "                yield defect, ii\n",
    "\n",
    "    for el in tup_el:\n",
    "        for ii, defect in enumerate(VGEN.generate(chgcar.structure, el)):\n",
    "            if ii < max_iter:\n",
    "                yield defect, ii\n",
    "\n",
    "    for el in tup_el:\n",
    "        for ii, defect in enumerate(\n",
    "            IGEN.generate(\n",
    "                chgcar,\n",
    "                el,\n",
    "            )\n",
    "        ):\n",
    "            if ii < max_iter:\n",
    "                yield defect, ii"
   ]
  },
  {
   "cell_type": "code",
   "execution_count": null,
   "metadata": {},
   "outputs": [],
   "source": [
    "for defect, defect_index in get_defects(chgcar):\n",
    "    print(defect, defect_index)  # noqa: T201"
   ]
  },
  {
   "cell_type": "markdown",
   "metadata": {},
   "source": [
    "These generators find 8 symmetry distinct defects in the structure.\n",
    "2 vacancies, 2 substitutions, and 4 interstitials.\n"
   ]
  },
  {
   "cell_type": "code",
   "execution_count": null,
   "metadata": {},
   "outputs": [],
   "source": [
    "DEFECT_RELAX_SC = MPMetaGGARelaxMaker(\n",
    "    input_set_generator=MPScanRelaxSet(\n",
    "        use_structure_charge=True, user_incar_settings={\"ISIF\": 2}\n",
    "    ),\n",
    "    task_document_kwargs={\"store_volumetric_data\": [\"locpot\"]},\n",
    ")\n",
    "BULK_RELAX_SC = MPMetaGGADoubleRelaxMaker()\n",
    "\n",
    "maker = FormationEnergyMaker(\n",
    "    bulk_relax_maker=BULK_RELAX_SC,\n",
    "    defect_relax_maker=DEFECT_RELAX_SC,\n",
    "    collect_defect_entry_data=True,\n",
    ")"
   ]
  },
  {
   "cell_type": "code",
   "execution_count": null,
   "metadata": {},
   "outputs": [],
   "source": [
    "maker = update_user_kpoints_settings(maker, kpoints_updates=SPECIAL_KPOINT)\n",
    "\n",
    "maker = update_user_incar_settings(maker, incar_updates={\"ENCUT\": 400, \"NCORE\": 4})"
   ]
  },
  {
   "cell_type": "code",
   "execution_count": null,
   "metadata": {},
   "outputs": [],
   "source": [
    "sc_mat = get_sc_fromstruct(chgcar.structure, min_atoms=40, max_atoms=64, min_length=2)\n",
    "sc_mat"
   ]
  },
  {
   "cell_type": "code",
   "execution_count": null,
   "metadata": {},
   "outputs": [],
   "source": [
    "# Uncomment this to true if you have jobflow remote configured\n",
    "# and want to actually run this\n",
    "RUN_FOR_REAL = False\n",
    "\n",
    "if RUN_FOR_REAL:\n",
    "    from jobflow_remote import submit_flow\n",
    "\n",
    "    for defect, defect_index in get_defects(chgcar):\n",
    "        defect.user_charges = [-1, 0, 1]\n",
    "        flow = maker.make(defect, defect_index=defect_index, supercell_matrix=sc_mat)\n",
    "        submit_flow(flow, worker=\"cpu\", project=\"a2_tut\")"
   ]
  },
  {
   "cell_type": "markdown",
   "metadata": {},
   "source": [
    "Wait a couple of hours for the calculations to finish.\n"
   ]
  },
  {
   "cell_type": "code",
   "execution_count": null,
   "metadata": {},
   "outputs": [],
   "source": [
    "if RUN_FOR_REAL:\n",
    "    from jobflow_remote import get_jobstore\n",
    "\n",
    "    with get_jobstore(\"a2_tut\") as js:\n",
    "        # store the defect entries\n",
    "        defect_entries = []\n",
    "        for de_doc in js.query({\"name\": \"get_defect_entry\"}):\n",
    "            defect_entries.append(  # noqa: PERF401\n",
    "                [d_[\"defect_entry\"] for d_ in de_doc[\"output\"]]\n",
    "            )\n",
    "        dumpfn(defect_entries, \"./data_files/defects/all_defect_entries.json\")\n",
    "\n",
    "        # store the bulk task\n",
    "        bulk_task_doc = js.query_one({\"name\": \"MP meta-GGA relax 2\"})\n",
    "        dumpfn(bulk_task_doc, \"./data_files/defects/bulk_sc_task.json\")\n",
    "defect_entries = loadfn(\"./data_files/defects/all_defect_entries.json\")\n",
    "bulk_task_doc = loadfn(\"./data_files/defects/bulk_sc_task.json\")"
   ]
  },
  {
   "cell_type": "code",
   "execution_count": null,
   "metadata": {},
   "outputs": [],
   "source": [
    "bulk_task_output = bulk_task_doc.output.calcs_reversed[0].output\n",
    "e_vbm, e_cbm = bulk_task_output.vbm, bulk_task_output.cbm"
   ]
  },
  {
   "cell_type": "code",
   "execution_count": null,
   "metadata": {},
   "outputs": [],
   "source": [
    "if PMG_MAPI_KEY:\n",
    "    phase_diagram_metagga = mpr.materials.thermo.get_phase_diagram_from_chemsys(\n",
    "        \"Ga-N\", thermo_type=\"R2SCAN\"\n",
    "    )\n",
    "else:\n",
    "    phase_diagram_metagga = loadfn(\n",
    "        \"./data_files/defects/gan_phase_diagram_metagga.json\"\n",
    "    )"
   ]
  },
  {
   "cell_type": "code",
   "execution_count": null,
   "metadata": {},
   "outputs": [],
   "source": [
    "from pymatgen.analysis.defects.thermo import FormationEnergyDiagram\n",
    "\n",
    "formation_energies_diagrams = []\n",
    "for de_group in defect_entries:\n",
    "    formation_energies_diagrams.append(\n",
    "        FormationEnergyDiagram(\n",
    "            defect_entries=de_group,\n",
    "            pd_entries=phase_diagram_metagga.stable_entries,\n",
    "            vbm=e_vbm,\n",
    "            band_gap=e_cbm - e_vbm,\n",
    "        )\n",
    "    )"
   ]
  },
  {
   "cell_type": "code",
   "execution_count": null,
   "metadata": {},
   "outputs": [],
   "source": [
    "fed = formation_energies_diagrams[0]\n",
    "chempot = fed.get_chempots(rich_element=\"Ga\")\n",
    "plot_formation_energy_diagrams(formation_energies_diagrams, chempot=chempot)"
   ]
  },
  {
   "cell_type": "code",
   "execution_count": null,
   "metadata": {},
   "outputs": [],
   "source": [
    "chempot = fed.get_chempots(rich_element=\"N\")\n",
    "plot_formation_energy_diagrams(formation_energies_diagrams, chempot=chempot)"
   ]
  }
 ],
 "metadata": {
  "language_info": {
   "codemirror_mode": {
    "name": "ipython",
    "version": 3
   },
   "file_extension": ".py",
   "mimetype": "text/x-python",
   "name": "python",
   "nbconvert_exporter": "python",
   "pygments_lexer": "ipython3",
   "version": "3.12.9"
  }
 },
 "nbformat": 4,
 "nbformat_minor": 4
}
