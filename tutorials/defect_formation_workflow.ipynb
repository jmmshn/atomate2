{
 "cells": [
  {
   "cell_type": "markdown",
   "metadata": {},
   "source": [
    "# Running Charged Defect Calculation\n",
    "\n",
    "The Formation Energy of a charged defect is given by the \n",
    "\n",
    "$E^f[X^q] = {\\color{#ff6d00}{E_{\\text{tot}}[X^q]}} - E_{\\text{tot}}[\\text{bulk}] + \\sum_i n_i\\mu_i + qE_{\\text{F}} + \\color{#ff6d00}{\\Delta^q},$\n",
    "\n",
    "## Description of Terms\n",
    "\n",
    "### Directly Obtained from Supercell DFT Calculations\n",
    "\n",
    "- **$E^f[X^q]$**: Formation energy of defect $X$ in charge state $q$\n",
    "\n",
    "- **${\\color{#ff6d00}{E_{\\text{tot}}[X^q]}}$**: Total energy of the supercell containing defect $X$ with charge $q$\n",
    "\n",
    "- **$E_{\\text{tot}}[\\text{bulk}]$**: Total energy of the perfect bulk supercell (reference state)\n",
    "\n",
    "- **$\\color{#ff6d00}{\\Delta^q}$**: Correction term for charged systems, including potential alignment and finite-size corrections\n",
    "\n",
    "### External information required\n",
    "\n",
    "- **$\\sum_i n_i\\mu_i$**: Sum of the chemical potentials of atoms added ($n_i > 0$) or removed ($n_i < 0$). Needs the MP phase diagram for competing phases.\n",
    "\n",
    "- **$qE_{\\text{F}}$**: Energy contribution from charged defects, where $E_{\\text{F}}$ is the Fermi level. Needs a high quality band structure calculation of the bulk material.\n",
    "\n",
    "The <span style=\"color:#ff6d00\">orange-colored</span> terms highlight the terms that are directly obtained from the explicit charged supercell calculations. These terms are the main focus of the automated defect workflow in `atomate2` since these are the terms that are unique for each charge state. Their contributions are combined in the \n",
    "\n",
    "\n",
    "\n",
    "This notebook will guide you through how to obtain all of these terms using DFT calculations and the Materials Project database.\n"
   ]
  },
  {
   "cell_type": "code",
   "execution_count": null,
   "metadata": {},
   "outputs": [],
   "source": [
    "# First make sure that the defect analysis add-on is installed\n",
    "# If the defect package is not installed, uncomment the following line\n",
    "# !pip install pymatgen-analysis-defects;"
   ]
  },
  {
   "cell_type": "code",
   "execution_count": null,
   "metadata": {},
   "outputs": [],
   "source": [
    "import itertools\n",
    "\n",
    "from pymatgen.analysis.defects.generators import (\n",
    "    ChargeInterstitialGenerator,\n",
    "    SubstitutionGenerator,\n",
    "    VacancyGenerator,\n",
    ")\n",
    "from pymatgen.core import Structure, _load_pmg_settings\n",
    "from pymatgen.ext.matproj import MPRester\n",
    "from pymatgen.io.vasp import Chgcar\n",
    "\n",
    "PMG_SETTINGS = _load_pmg_settings()\n",
    "PMG_MAPI_KEY = PMG_SETTINGS.get(\"PMG_MAPI_KEY\", None)\n",
    "PMG_MAPI_KEY = None"
   ]
  },
  {
   "cell_type": "markdown",
   "metadata": {},
   "source": [
    "## Generate the Defect Objects from MP Charge Density\n",
    "\n",
    "The vacancies and substitutional defects can be generated from the structure alone.\n",
    "\n",
    "But interstitial are best generated using the electronic charge density.\n",
    "\n",
    "We can download the charge density from the Materials Project and use it to generate all of the native point defects."
   ]
  },
  {
   "cell_type": "code",
   "execution_count": null,
   "metadata": {},
   "outputs": [],
   "source": [
    "# Make sure that you have the full featured API installed\n",
    "# via `pip install mp-api`\n",
    "if PMG_MAPI_KEY:\n",
    "    mpr = MPRester()  # or add your own API key as an argument here\n",
    "    chgcar = mpr.get_charge_density_from_material_id(\"mp-804\")\n",
    "else:\n",
    "    chgcar = Chgcar.from_file(\"./data_files/GaN-chgcar.vasp\")"
   ]
  },
  {
   "cell_type": "markdown",
   "metadata": {},
   "source": [
    "You can get the enumerate over different speices involved in the\n",
    "vacancy, interstitial and substitutions using the helper functions\n",
    "below."
   ]
  },
  {
   "cell_type": "code",
   "execution_count": null,
   "metadata": {},
   "outputs": [],
   "source": [
    "chgcar = Chgcar.from_file(\"./data_files/GaN-chgcar.vasp\")"
   ]
  },
  {
   "cell_type": "code",
   "execution_count": null,
   "metadata": {},
   "outputs": [],
   "source": [
    "def _get_elements(struct: Structure) -> tuple[tuple[str], ...]:\n",
    "    \"\"\"Get the elements involved in the structures.\"\"\"\n",
    "    s_atoms = sorted(atom.symbol for atom in struct.elements)\n",
    "    return tuple((aa_,) for aa_ in s_atoms)\n",
    "\n",
    "\n",
    "def _get_subs(struct: Structure) -> tuple[dict[str, str], ...]:\n",
    "    \"\"\"Get native substitutions.\"\"\"\n",
    "    s_atoms = sorted(atom.symbol for atom in struct.elements)\n",
    "    return tuple(\n",
    "        itertools.chain.from_iterable(\n",
    "            ({a: b}, {b: a}) for a, b in itertools.combinations(s_atoms, 2)\n",
    "        )\n",
    "    )\n",
    "\n",
    "\n",
    "print(_get_elements(chgcar.structure))  # noqa: T201\n",
    "print(_get_subs(chgcar.structure))  # noqa: T201"
   ]
  },
  {
   "cell_type": "markdown",
   "metadata": {},
   "source": [
    "The different defect generators are available in the `pymatgen.analysis.defects` module each with their own set of tolerances parameters.\n",
    "\n",
    "Once those are configured,"
   ]
  },
  {
   "cell_type": "code",
   "execution_count": null,
   "metadata": {},
   "outputs": [],
   "source": [
    "VGEN = VacancyGenerator(symprec=0.01)\n",
    "IGEN = ChargeInterstitialGenerator(max_insertions=3)\n",
    "SGEN = SubstitutionGenerator(angle_tolerance=5)"
   ]
  },
  {
   "cell_type": "code",
   "execution_count": null,
   "metadata": {},
   "outputs": [],
   "source": [
    "def get_defects(chgcar: Chgcar, max_iter: int = 3):  # noqa: ANN201\n",
    "    \"\"\"Generate the defects for a chgcar.\n",
    "\n",
    "    Args:\n",
    "        chgcar: The chgcar object.\n",
    "        max_iter: The maximum number of defects of each type to generate.\n",
    "\n",
    "    Returns\n",
    "    -------\n",
    "        A generator of (defect, index) pairs.\n",
    "    \"\"\"\n",
    "    tup_el = _get_elements(chgcar.structure)\n",
    "    tup_sub = _get_subs(chgcar.structure)\n",
    "    for sub_d in tup_sub:\n",
    "        for ii, defect in enumerate(SGEN.generate(chgcar.structure, sub_d)):\n",
    "            if ii < max_iter:\n",
    "                yield defect, ii\n",
    "\n",
    "    for el in tup_el:\n",
    "        for ii, defect in enumerate(VGEN.generate(chgcar.structure, el)):\n",
    "            if ii < max_iter:\n",
    "                yield defect, ii\n",
    "\n",
    "    for el in tup_el:\n",
    "        for ii, defect in enumerate(\n",
    "            IGEN.generate(\n",
    "                chgcar,\n",
    "                el,\n",
    "            )\n",
    "        ):\n",
    "            if ii < max_iter:\n",
    "                yield defect, ii"
   ]
  },
  {
   "cell_type": "code",
   "execution_count": null,
   "metadata": {},
   "outputs": [],
   "source": [
    "for defect, defect_index in get_defects(chgcar):\n",
    "    print(defect, defect_index)  # noqa: T201"
   ]
  },
  {
   "cell_type": "markdown",
   "metadata": {},
   "source": [
    "These generators find 8 defects in the structure.\n",
    "2 vacancies, 2 substitutions, and 4 interstitials.\n"
   ]
  },
  {
   "cell_type": "code",
   "execution_count": null,
   "metadata": {},
   "outputs": [],
   "source": [
    "from pymatgen.io.vasp.sets import MP24RelaxSet\n",
    "\n",
    "from atomate2.vasp.flows.defect import FormationEnergyMaker\n",
    "from atomate2.vasp.flows.mp import MP24DoubleRelaxMaker, MP24RelaxMaker\n",
    "\n",
    "DEFECT_RELAX_SC = MP24RelaxMaker(\n",
    "    input_set_generator=MP24RelaxSet(\n",
    "        use_structure_charge=True, user_incar_settings={\"ISIF\": 2}\n",
    "    ),\n",
    "    task_document_kwargs={\"store_volumetric_data\": [\"locpot\"]},\n",
    ")\n",
    "BULK_RELAX_SC = MP24DoubleRelaxMaker()\n",
    "\n",
    "maker = FormationEnergyMaker(\n",
    "    bulk_relax_maker=MP24DoubleRelaxMaker(),\n",
    "    defect_relax_maker=DEFECT_RELAX_SC,\n",
    "    collect_defect_entry_data=True,\n",
    ")"
   ]
  },
  {
   "cell_type": "code",
   "execution_count": null,
   "metadata": {},
   "outputs": [],
   "source": [
    "for defect, defect_index in get_defects(chgcar):\n",
    "    flow = maker.make(defect, defect_index=defect_index)\n",
    "    # submit each flow to the queue and analyze the results"
   ]
  }
 ],
 "metadata": {
  "language_info": {
   "codemirror_mode": {
    "name": "ipython",
    "version": 3
   },
   "file_extension": ".py",
   "mimetype": "text/x-python",
   "name": "python",
   "nbconvert_exporter": "python",
   "pygments_lexer": "ipython3",
   "version": "3.12.9"
  }
 },
 "nbformat": 4,
 "nbformat_minor": 4
}
