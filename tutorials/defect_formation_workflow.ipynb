{
 "cells": [
  {
   "cell_type": "markdown",
   "metadata": {},
   "source": [
    "# Running Charged Defect Calculation\n",
    "\n",
    "The Formation Energy of a charged defect is given by the \n",
    "\n",
    "$E^f[X^q] = {\\color{#ff6d00}{E_{\\text{tot}}[X^q]}} - E_{\\text{tot}}[\\text{bulk}] + \\sum_i n_i\\mu_i + qE_{\\text{F}} + \\color{#ff6d00}{\\Delta^q},$\n",
    "\n",
    "## Description of Terms\n",
    "\n",
    "### Directly Obtained from Supercell DFT Calculations\n",
    "\n",
    "- **$E^f[X^q]$**: Formation energy of defect $X$ in charge state $q$\n",
    "\n",
    "- **${\\color{#ff6d00}{E_{\\text{tot}}[X^q]}}$**: Total energy of the supercell containing defect $X$ with charge $q$\n",
    "\n",
    "- **$E_{\\text{tot}}[\\text{bulk}]$**: Total energy of the perfect bulk supercell (reference state)\n",
    "\n",
    "- **$\\color{#ff6d00}{\\Delta^q}$**: Correction term for charged systems, including potential alignment and finite-size corrections\n",
    "\n",
    "### External information required\n",
    "\n",
    "- **$\\sum_i n_i\\mu_i$**: Sum of the chemical potentials of atoms added ($n_i > 0$) or removed ($n_i < 0$). Needs the MP phase diagram for competing phases.\n",
    "\n",
    "- **$qE_{\\text{F}}$**: Energy contribution adding/removing electron, where $E_{\\text{F}}$ is the Fermi level. Needs a high quality band structure calculation of the bulk material.\n",
    "\n",
    "The <span style=\"color:#ff6d00\">orange-colored</span> terms highlight the terms that are directly obtained from the explicit charged supercell calculations. These terms are the main focus of the automated defect workflow in `atomate2` since these are the terms that are unique for each charge state. Their contributions are combined in the \n",
    "\n",
    "This notebook will guide you through how to obtain all of these terms using DFT calculations and the Materials Project database.\n"
   ]
  },
  {
   "cell_type": "code",
   "execution_count": 17,
   "metadata": {},
   "outputs": [],
   "source": [
    "# First make sure that the defect analysis add-on is installed\n",
    "# If the defect package is not installed, uncomment the following line\n",
    "# !pip install pymatgen-analysis-defects;"
   ]
  },
  {
   "cell_type": "code",
   "execution_count": 18,
   "metadata": {},
   "outputs": [],
   "source": [
    "import itertools\n",
    "\n",
    "from monty.serialization import dumpfn, loadfn\n",
    "from pymatgen.analysis.defects.generators import (\n",
    "    ChargeInterstitialGenerator,\n",
    "    SubstitutionGenerator,\n",
    "    VacancyGenerator,\n",
    ")\n",
    "from pymatgen.analysis.defects.plotting.thermo import plot_formation_energy_diagrams\n",
    "from pymatgen.analysis.defects.supercells import get_sc_fromstruct\n",
    "from pymatgen.core import Structure, _load_pmg_settings\n",
    "from pymatgen.ext.matproj import MPRester\n",
    "from pymatgen.io.vasp import Chgcar\n",
    "from pymatgen.io.vasp.sets import MPScanRelaxSet\n",
    "\n",
    "from atomate2.vasp.flows.defect import FormationEnergyMaker\n",
    "from atomate2.vasp.flows.mp import MPMetaGGADoubleRelaxMaker, MPMetaGGARelaxMaker\n",
    "from atomate2.vasp.powerups import (\n",
    "    update_user_incar_settings,\n",
    "    update_user_kpoints_settings,\n",
    ")\n",
    "from atomate2.vasp.sets.defect import SPECIAL_KPOINT\n",
    "\n",
    "PMG_SETTINGS = _load_pmg_settings()\n",
    "PMG_MAPI_KEY = PMG_SETTINGS.get(\"PMG_MAPI_KEY\", None)"
   ]
  },
  {
   "cell_type": "markdown",
   "metadata": {},
   "source": [
    "## Generate the Defect Objects from MP Charge Density\n",
    "\n",
    "The vacancies and substitutional defects can be generated from the structure alone.\n",
    "\n",
    "But interstitial are best generated using the electronic charge density.\n",
    "\n",
    "We can download the charge density from the Materials Project and use it to generate all of the native point defects."
   ]
  },
  {
   "cell_type": "code",
   "execution_count": 19,
   "metadata": {},
   "outputs": [],
   "source": [
    "# Make sure that you have the full featured API installed\n",
    "# via `pip install mp-api`\n",
    "if PMG_MAPI_KEY:\n",
    "    mpr = MPRester()  # or add your own API key as an argument here\n",
    "    chgcar = mpr.get_charge_density_from_material_id(\"mp-804\")\n",
    "else:\n",
    "    chgcar = Chgcar.from_file(\"./data_files/GaN-chgcar.vasp\")"
   ]
  },
  {
   "cell_type": "markdown",
   "metadata": {},
   "source": [
    "You can enumerate over different speices involved in the\n",
    "vacancy, interstitial and substitutions using the helper functions\n",
    "below."
   ]
  },
  {
   "cell_type": "code",
   "execution_count": 20,
   "metadata": {},
   "outputs": [
    {
     "name": "stdout",
     "output_type": "stream",
     "text": [
      "(('Ga',), ('N',))\n",
      "({'Ga': 'N'}, {'N': 'Ga'})\n"
     ]
    }
   ],
   "source": [
    "def _get_elements(struct: Structure) -> tuple[tuple[str], ...]:\n",
    "    \"\"\"Get the elements involved in the structures.\"\"\"\n",
    "    s_atoms = sorted(atom.symbol for atom in struct.elements)\n",
    "    return tuple((aa_,) for aa_ in s_atoms)\n",
    "\n",
    "\n",
    "def _get_subs(struct: Structure) -> tuple[dict[str, str], ...]:\n",
    "    \"\"\"Get native substitutions.\"\"\"\n",
    "    s_atoms = sorted(atom.symbol for atom in struct.elements)\n",
    "    return tuple(\n",
    "        itertools.chain.from_iterable(\n",
    "            ({a: b}, {b: a}) for a, b in itertools.combinations(s_atoms, 2)\n",
    "        )\n",
    "    )\n",
    "\n",
    "\n",
    "print(_get_elements(chgcar.structure))  # noqa: T201\n",
    "print(_get_subs(chgcar.structure))  # noqa: T201"
   ]
  },
  {
   "cell_type": "markdown",
   "metadata": {},
   "source": [
    "The different defect generators are available in the `pymatgen.analysis.defects` module each with their own set of tolerances parameters.\n",
    "\n",
    "Once those are configured,"
   ]
  },
  {
   "cell_type": "code",
   "execution_count": 21,
   "metadata": {},
   "outputs": [],
   "source": [
    "VGEN = VacancyGenerator(symprec=0.01)\n",
    "IGEN = ChargeInterstitialGenerator(max_insertions=3)\n",
    "SGEN = SubstitutionGenerator(angle_tolerance=5)"
   ]
  },
  {
   "cell_type": "code",
   "execution_count": 22,
   "metadata": {},
   "outputs": [],
   "source": [
    "def get_defects(chgcar: Chgcar, max_iter: int = 3):  # noqa: ANN201\n",
    "    \"\"\"Generate the defects for a chgcar.\n",
    "\n",
    "    Args:\n",
    "        chgcar: The chgcar object.\n",
    "        max_iter: The maximum number of defects of each type to generate.\n",
    "\n",
    "    Returns\n",
    "    -------\n",
    "        A generator of (defect, index) pairs.\n",
    "    \"\"\"\n",
    "    tup_el = _get_elements(chgcar.structure)\n",
    "    tup_sub = _get_subs(chgcar.structure)\n",
    "    for sub_d in tup_sub:\n",
    "        for ii, defect in enumerate(SGEN.generate(chgcar.structure, sub_d)):\n",
    "            if ii < max_iter:\n",
    "                yield defect, ii\n",
    "\n",
    "    for el in tup_el:\n",
    "        for ii, defect in enumerate(VGEN.generate(chgcar.structure, el)):\n",
    "            if ii < max_iter:\n",
    "                yield defect, ii\n",
    "\n",
    "    for el in tup_el:\n",
    "        for ii, defect in enumerate(\n",
    "            IGEN.generate(\n",
    "                chgcar,\n",
    "                el,\n",
    "            )\n",
    "        ):\n",
    "            if ii < max_iter:\n",
    "                yield defect, ii"
   ]
  },
  {
   "cell_type": "code",
   "execution_count": 23,
   "metadata": {},
   "outputs": [
    {
     "name": "stdout",
     "output_type": "stream",
     "text": [
      "N subsitituted on the Ga site at at site #0 0\n",
      "Ga subsitituted on the N site at at site #2 0\n",
      "Ga Vacancy defect at site #0 0\n",
      "N Vacancy defect at site #2 0\n",
      "Ga intersitial site at [0.00,0.00,0.20] 0\n",
      "Ga intersitial site at [0.35,0.65,0.69] 1\n",
      "N intersitial site at [0.00,0.00,0.20] 0\n",
      "N intersitial site at [0.35,0.65,0.69] 1\n"
     ]
    }
   ],
   "source": [
    "for defect, defect_index in get_defects(chgcar):\n",
    "    print(defect, defect_index)  # noqa: T201"
   ]
  },
  {
   "cell_type": "markdown",
   "metadata": {},
   "source": [
    "These generators find 8 symmetry distinct defects in the structure.\n",
    "2 vacancies, 2 substitutions, and 4 interstitials.\n"
   ]
  },
  {
   "cell_type": "code",
   "execution_count": 24,
   "metadata": {},
   "outputs": [],
   "source": [
    "DEFECT_RELAX_SC = MPMetaGGARelaxMaker(\n",
    "    input_set_generator=MPScanRelaxSet(\n",
    "        use_structure_charge=True, user_incar_settings={\"ISIF\": 2}\n",
    "    ),\n",
    "    task_document_kwargs={\"store_volumetric_data\": [\"locpot\"]},\n",
    ")\n",
    "BULK_RELAX_SC = MPMetaGGADoubleRelaxMaker()\n",
    "\n",
    "maker = FormationEnergyMaker(\n",
    "    bulk_relax_maker=BULK_RELAX_SC,\n",
    "    defect_relax_maker=DEFECT_RELAX_SC,\n",
    "    collect_defect_entry_data=True,\n",
    ")"
   ]
  },
  {
   "cell_type": "code",
   "execution_count": 25,
   "metadata": {},
   "outputs": [],
   "source": [
    "maker = update_user_kpoints_settings(maker, kpoints_updates=SPECIAL_KPOINT)\n",
    "\n",
    "maker = update_user_incar_settings(maker, incar_updates={\"ENCUT\": 400, \"NCORE\": 4})"
   ]
  },
  {
   "cell_type": "code",
   "execution_count": 26,
   "metadata": {},
   "outputs": [
    {
     "data": {
      "text/plain": [
       "array([[ 3,  3,  0],\n",
       "       [-1,  1,  0],\n",
       "       [ 0,  0,  2]])"
      ]
     },
     "execution_count": 26,
     "metadata": {},
     "output_type": "execute_result"
    }
   ],
   "source": [
    "sc_mat = get_sc_fromstruct(chgcar.structure, min_atoms=40, max_atoms=64, min_length=2)\n",
    "sc_mat"
   ]
  },
  {
   "cell_type": "code",
   "execution_count": 27,
   "metadata": {},
   "outputs": [],
   "source": [
    "# Uncomment this to true if you have jobflow remote configured\n",
    "# and want to actually run this\n",
    "RUN_FOR_REAL = False\n",
    "\n",
    "if RUN_FOR_REAL:\n",
    "    from jobflow_remote import submit_flow\n",
    "\n",
    "    for defect, defect_index in get_defects(chgcar):\n",
    "        defect.user_charges = [-1, 0, 1]\n",
    "        flow = maker.make(defect, defect_index=defect_index, supercell_matrix=sc_mat)\n",
    "        submit_flow(flow, worker=\"cpu\", project=\"a2_tut\")"
   ]
  },
  {
   "cell_type": "markdown",
   "metadata": {},
   "source": [
    "Wait a couple of hours for the calculations to finish.\n"
   ]
  },
  {
   "cell_type": "code",
   "execution_count": 33,
   "metadata": {},
   "outputs": [],
   "source": [
    "if RUN_FOR_REAL:\n",
    "    from jobflow_remote import get_jobstore\n",
    "\n",
    "    with get_jobstore(\"a2_tut\") as js:\n",
    "        # store the defect entries\n",
    "        defect_entries = []\n",
    "        for de_doc in js.query({\"name\": \"get_defect_entry\"}):\n",
    "            defect_entries.append(  # noqa: PERF401\n",
    "                [d_[\"defect_entry\"] for d_ in de_doc[\"output\"]]\n",
    "            )\n",
    "        dumpfn(defect_entries, \"./data_files/defects/all_defect_entries.json\")\n",
    "\n",
    "        # store the bulk task: only for the band gap\n",
    "        bulk_task_doc = js.query_one({\"name\": \"MP meta-GGA relax 2\"})\n",
    "        bulk_task_output = bulk_task_doc[\"output\"][\"calcs_reversed\"][0][\"output\"]\n",
    "        dumpfn(bulk_task_output, \"./data_files/defects/bulk_task_output.json\")\n",
    "defect_entries = loadfn(\"./data_files/defects/all_defect_entries.json\")\n",
    "bulk_task_output = loadfn(\"./data_files/defects/bulk_task_output.json\")\n"
   ]
  },
  {
   "cell_type": "code",
   "execution_count": 35,
   "metadata": {},
   "outputs": [],
   "source": [
    "e_vbm, e_cbm = bulk_task_output[\"vbm\"], bulk_task_output[\"cbm\"]"
   ]
  },
  {
   "cell_type": "code",
   "execution_count": 36,
   "metadata": {},
   "outputs": [],
   "source": [
    "if PMG_MAPI_KEY:\n",
    "    phase_diagram_metagga = mpr.materials.thermo.get_phase_diagram_from_chemsys(\n",
    "        \"Ga-N\", thermo_type=\"R2SCAN\"\n",
    "    )\n",
    "else:\n",
    "    phase_diagram_metagga = loadfn(\n",
    "        \"./data_files/defects/gan_phase_diagram_metagga.json\"\n",
    "    )"
   ]
  },
  {
   "cell_type": "code",
   "execution_count": 40,
   "metadata": {},
   "outputs": [],
   "source": [
    "from pymatgen.analysis.defects.thermo import FormationEnergyDiagram\n",
    "\n",
    "formation_energies_diagrams = []\n",
    "for de_group in defect_entries:\n",
    "    formation_energies_diagrams.append(\n",
    "        FormationEnergyDiagram(\n",
    "            defect_entries=de_group,\n",
    "            pd_entries=phase_diagram_metagga.stable_entries,\n",
    "            vbm=e_vbm,\n",
    "            band_gap=e_cbm - e_vbm,\n",
    "        )\n",
    "    )\n",
    "    "
   ]
  },
  {
   "cell_type": "code",
   "execution_count": 41,
   "metadata": {},
   "outputs": [
    {
     "name": "stderr",
     "output_type": "stream",
     "text": [
      "/anfhome/v-jimshen/.conda/envs/af/lib/python3.12/site-packages/pymatgen/core/structure.py:2855: UserWarning:\n",
      "\n",
      "Structure charge (1.0) is set to be not equal to the sum of oxidation states (0). Use Structure.unset_charge() to reset the charge to None.\n",
      "\n"
     ]
    },
    {
     "data": {
      "application/vnd.plotly.v1+json": {
       "config": {
        "plotlyServerURL": "https://plot.ly"
       },
       "data": [
        {
         "hoverinfo": "x",
         "line": {
          "color": "#4C78A8",
          "dash": "solid"
         },
         "meta": {
          "formation_energy_plot": true
         },
         "mode": "lines+markers",
         "name": "Ga_N",
         "textposition": "top right",
         "type": "scatter",
         "x": [
          0,
          2.079211860000007,
          2.286995130000056,
          4.2304
         ],
         "y": [
          4.480810798333329,
          6.560022658333336,
          6.560022658333336,
          4.616617788333392
         ]
        },
        {
         "hoverinfo": "x",
         "line": {
          "color": "#F58518",
          "dash": "solid"
         },
         "meta": {
          "formation_energy_plot": true
         },
         "mode": "lines+markers",
         "name": "Ga_i:0",
         "textposition": "top right",
         "type": "scatter",
         "x": [
          0,
          3.932427974999959,
          4.2304
         ],
         "y": [
          5.513504000000057,
          9.445931975000017,
          9.147959949999976
         ]
        },
        {
         "hoverinfo": "x",
         "line": {
          "color": "#E45756",
          "dash": "solid"
         },
         "meta": {
          "formation_energy_plot": true
         },
         "mode": "lines+markers",
         "name": "Ga_i:1",
         "textposition": "top right",
         "type": "scatter",
         "x": [
          0,
          3.406879640000077,
          3.4070033700000035,
          4.2304
         ],
         "y": [
          5.9925646199999845,
          9.399444260000061,
          9.399444260000061,
          8.576047630000065
         ]
        },
        {
         "hoverinfo": "x",
         "line": {
          "color": "#72B7B2",
          "dash": "solid"
         },
         "meta": {
          "formation_energy_plot": true
         },
         "mode": "lines+markers",
         "name": "N_Ga",
         "textposition": "top right",
         "type": "scatter",
         "x": [
          0,
          1.6793451999999918,
          4.2304
         ],
         "y": [
          7.923581941666678,
          9.60292714166667,
          7.0518723416666615
         ]
        },
        {
         "hoverinfo": "x",
         "line": {
          "color": "#54A24B",
          "dash": "solid"
         },
         "meta": {
          "formation_energy_plot": true
         },
         "mode": "lines+markers",
         "name": "N_i:0",
         "textposition": "top right",
         "type": "scatter",
         "x": [
          0,
          1.4779926999999793,
          1.932288350000043,
          4.2304
         ],
         "y": [
          7.6624547316667035,
          9.140447431666683,
          9.140447431666683,
          6.842335781666725
         ]
        },
        {
         "hoverinfo": "x",
         "line": {
          "color": "#EECA3B",
          "dash": "solid"
         },
         "meta": {
          "formation_energy_plot": true
         },
         "mode": "lines+markers",
         "name": "N_i:1",
         "textposition": "top right",
         "type": "scatter",
         "x": [
          0,
          1.5556560599999534,
          2.137154629999962,
          4.2304
         ],
         "y": [
          5.188732401666717,
          6.74438846166667,
          6.74438846166667,
          4.651143091666632
         ]
        },
        {
         "hoverinfo": "x",
         "line": {
          "color": "#B279A2",
          "dash": "solid"
         },
         "meta": {
          "formation_energy_plot": true
         },
         "mode": "lines+markers",
         "name": "v_Ga",
         "textposition": "top right",
         "type": "scatter",
         "x": [
          0,
          0.021019160000000703,
          0.6003690299999871,
          4.2304
         ],
         "y": [
          7.4457512099999965,
          7.466770369999997,
          7.466770369999997,
          3.836739399999984
         ]
        },
        {
         "hoverinfo": "x",
         "line": {
          "color": "#FF9DA6",
          "dash": "solid"
         },
         "meta": {
          "formation_energy_plot": true
         },
         "mode": "lines+markers",
         "name": "v_N",
         "textposition": "top right",
         "type": "scatter",
         "x": [
          0,
          2.8363563999999633,
          2.8937441600000033,
          4.2304
         ],
         "y": [
          0.17699341833332216,
          3.0133498183332854,
          3.0133498183332854,
          1.6766939783332884
         ]
        },
        {
         "hoverinfo": "skip",
         "mode": "text",
         "name": "Ga_N:slope",
         "showlegend": false,
         "text": [
          "1",
          "0",
          "-1"
         ],
         "textfont": {
          "color": "#4C78A8"
         },
         "textposition": "top center",
         "type": "scatter",
         "x": [
          1.0396059300000036,
          2.1831034950000316,
          3.2586975650000283
         ],
         "y": [
          5.520416728333332,
          6.560022658333336,
          5.588320223333364
         ]
        },
        {
         "hoverinfo": "skip",
         "mode": "text",
         "name": "Ga_i:0:slope",
         "showlegend": false,
         "text": [
          "1",
          "-1"
         ],
         "textfont": {
          "color": "#F58518"
         },
         "textposition": "top center",
         "type": "scatter",
         "x": [
          1.9662139874999796,
          4.08141398749998
         ],
         "y": [
          7.479717987500036,
          9.296945962499997
         ]
        },
        {
         "hoverinfo": "skip",
         "mode": "text",
         "name": "Ga_i:1:slope",
         "showlegend": false,
         "text": [
          "1",
          "0",
          "-1"
         ],
         "textfont": {
          "color": "#E45756"
         },
         "textposition": "top center",
         "type": "scatter",
         "x": [
          1.7034398200000385,
          3.4069415050000402,
          3.818701685000002
         ],
         "y": [
          7.6960044400000225,
          9.399444260000061,
          8.987745945000064
         ]
        },
        {
         "hoverinfo": "skip",
         "mode": "text",
         "name": "N_Ga:slope",
         "showlegend": false,
         "text": [
          "1",
          "-1"
         ],
         "textfont": {
          "color": "#72B7B2"
         },
         "textposition": "top center",
         "type": "scatter",
         "x": [
          0.8396725999999959,
          2.9548725999999963
         ],
         "y": [
          8.763254541666674,
          8.327399741666666
         ]
        },
        {
         "hoverinfo": "skip",
         "mode": "text",
         "name": "N_i:0:slope",
         "showlegend": false,
         "text": [
          "1",
          "0",
          "-1"
         ],
         "textfont": {
          "color": "#54A24B"
         },
         "textposition": "top center",
         "type": "scatter",
         "x": [
          0.7389963499999896,
          1.7051405250000111,
          3.0813441750000217
         ],
         "y": [
          8.401451081666693,
          9.140447431666683,
          7.991391606666705
         ]
        },
        {
         "hoverinfo": "skip",
         "mode": "text",
         "name": "N_i:1:slope",
         "showlegend": false,
         "text": [
          "1",
          "0",
          "-1"
         ],
         "textfont": {
          "color": "#EECA3B"
         },
         "textposition": "top center",
         "type": "scatter",
         "x": [
          0.7778280299999767,
          1.8464053449999578,
          3.1837773149999813
         ],
         "y": [
          5.966560431666693,
          6.74438846166667,
          5.697765776666651
         ]
        },
        {
         "hoverinfo": "skip",
         "mode": "text",
         "name": "v_Ga:slope",
         "showlegend": false,
         "text": [
          "1",
          "0",
          "-1"
         ],
         "textfont": {
          "color": "#B279A2"
         },
         "textposition": "top center",
         "type": "scatter",
         "x": [
          0.010509580000000351,
          0.3106940949999939,
          2.4153845149999937
         ],
         "y": [
          7.456260789999996,
          7.466770369999997,
          5.65175488499999
         ]
        },
        {
         "hoverinfo": "skip",
         "mode": "text",
         "name": "v_N:slope",
         "showlegend": false,
         "text": [
          "1",
          "0",
          "-1"
         ],
         "textfont": {
          "color": "#FF9DA6"
         },
         "textposition": "top center",
         "type": "scatter",
         "x": [
          1.4181781999999816,
          2.8650502799999833,
          3.562072080000002
         ],
         "y": [
          1.5951716183333038,
          3.0133498183332854,
          2.345021898333287
         ]
        }
       ],
       "layout": {
        "annotations": [
         {
          "arrowcolor": "#4C78A8",
          "bgcolor": "white",
          "bordercolor": "#4C78A8",
          "font": {
           "color": "#4C78A8"
          },
          "text": "Ga_N",
          "x": 0.2644,
          "y": 4.745210798333329
         },
         {
          "arrowcolor": "#F58518",
          "bgcolor": "white",
          "bordercolor": "#F58518",
          "font": {
           "color": "#F58518"
          },
          "text": "Ga_i:0",
          "x": 0.7932000000000001,
          "y": 6.306704000000058
         },
         {
          "arrowcolor": "#E45756",
          "bgcolor": "white",
          "bordercolor": "#E45756",
          "font": {
           "color": "#E45756"
          },
          "text": "Ga_i:1",
          "x": 1.322,
          "y": 7.3145646199999845
         },
         {
          "arrowcolor": "#72B7B2",
          "bgcolor": "white",
          "bordercolor": "#72B7B2",
          "font": {
           "color": "#72B7B2"
          },
          "text": "N_Ga",
          "x": 1.8508000000000002,
          "y": 9.431472341666662
         },
         {
          "arrowcolor": "#54A24B",
          "bgcolor": "white",
          "bordercolor": "#54A24B",
          "font": {
           "color": "#54A24B"
          },
          "text": "N_i:0",
          "x": 2.3796000000000004,
          "y": 8.693135781666726
         },
         {
          "arrowcolor": "#EECA3B",
          "bgcolor": "white",
          "bordercolor": "#EECA3B",
          "font": {
           "color": "#EECA3B"
          },
          "text": "N_i:1",
          "x": 2.9084000000000003,
          "y": 5.973143091666632
         },
         {
          "arrowcolor": "#B279A2",
          "bgcolor": "white",
          "bordercolor": "#B279A2",
          "font": {
           "color": "#B279A2"
          },
          "text": "v_Ga",
          "x": 3.4372000000000007,
          "y": 4.629939399999984
         },
         {
          "arrowcolor": "#FF9DA6",
          "bgcolor": "white",
          "bordercolor": "#FF9DA6",
          "font": {
           "color": "#FF9DA6"
          },
          "text": "v_N",
          "x": 3.9660000000000006,
          "y": 1.9410939783332881
         }
        ],
        "font": {
         "family": "Helvetica"
        },
        "showlegend": false,
        "template": {
         "data": {
          "bar": [
           {
            "error_x": {
             "color": "#2a3f5f"
            },
            "error_y": {
             "color": "#2a3f5f"
            },
            "marker": {
             "line": {
              "color": "white",
              "width": 0.5
             },
             "pattern": {
              "fillmode": "overlay",
              "size": 10,
              "solidity": 0.2
             }
            },
            "type": "bar"
           }
          ],
          "barpolar": [
           {
            "marker": {
             "line": {
              "color": "white",
              "width": 0.5
             },
             "pattern": {
              "fillmode": "overlay",
              "size": 10,
              "solidity": 0.2
             }
            },
            "type": "barpolar"
           }
          ],
          "carpet": [
           {
            "aaxis": {
             "endlinecolor": "#2a3f5f",
             "gridcolor": "#C8D4E3",
             "linecolor": "#C8D4E3",
             "minorgridcolor": "#C8D4E3",
             "startlinecolor": "#2a3f5f"
            },
            "baxis": {
             "endlinecolor": "#2a3f5f",
             "gridcolor": "#C8D4E3",
             "linecolor": "#C8D4E3",
             "minorgridcolor": "#C8D4E3",
             "startlinecolor": "#2a3f5f"
            },
            "type": "carpet"
           }
          ],
          "choropleth": [
           {
            "colorbar": {
             "outlinewidth": 0,
             "ticks": ""
            },
            "type": "choropleth"
           }
          ],
          "contour": [
           {
            "colorbar": {
             "outlinewidth": 0,
             "ticks": ""
            },
            "colorscale": [
             [
              0,
              "#0d0887"
             ],
             [
              0.1111111111111111,
              "#46039f"
             ],
             [
              0.2222222222222222,
              "#7201a8"
             ],
             [
              0.3333333333333333,
              "#9c179e"
             ],
             [
              0.4444444444444444,
              "#bd3786"
             ],
             [
              0.5555555555555556,
              "#d8576b"
             ],
             [
              0.6666666666666666,
              "#ed7953"
             ],
             [
              0.7777777777777778,
              "#fb9f3a"
             ],
             [
              0.8888888888888888,
              "#fdca26"
             ],
             [
              1,
              "#f0f921"
             ]
            ],
            "type": "contour"
           }
          ],
          "contourcarpet": [
           {
            "colorbar": {
             "outlinewidth": 0,
             "ticks": ""
            },
            "type": "contourcarpet"
           }
          ],
          "heatmap": [
           {
            "colorbar": {
             "outlinewidth": 0,
             "ticks": ""
            },
            "colorscale": [
             [
              0,
              "#0d0887"
             ],
             [
              0.1111111111111111,
              "#46039f"
             ],
             [
              0.2222222222222222,
              "#7201a8"
             ],
             [
              0.3333333333333333,
              "#9c179e"
             ],
             [
              0.4444444444444444,
              "#bd3786"
             ],
             [
              0.5555555555555556,
              "#d8576b"
             ],
             [
              0.6666666666666666,
              "#ed7953"
             ],
             [
              0.7777777777777778,
              "#fb9f3a"
             ],
             [
              0.8888888888888888,
              "#fdca26"
             ],
             [
              1,
              "#f0f921"
             ]
            ],
            "type": "heatmap"
           }
          ],
          "heatmapgl": [
           {
            "colorbar": {
             "outlinewidth": 0,
             "ticks": ""
            },
            "colorscale": [
             [
              0,
              "#0d0887"
             ],
             [
              0.1111111111111111,
              "#46039f"
             ],
             [
              0.2222222222222222,
              "#7201a8"
             ],
             [
              0.3333333333333333,
              "#9c179e"
             ],
             [
              0.4444444444444444,
              "#bd3786"
             ],
             [
              0.5555555555555556,
              "#d8576b"
             ],
             [
              0.6666666666666666,
              "#ed7953"
             ],
             [
              0.7777777777777778,
              "#fb9f3a"
             ],
             [
              0.8888888888888888,
              "#fdca26"
             ],
             [
              1,
              "#f0f921"
             ]
            ],
            "type": "heatmapgl"
           }
          ],
          "histogram": [
           {
            "marker": {
             "pattern": {
              "fillmode": "overlay",
              "size": 10,
              "solidity": 0.2
             }
            },
            "type": "histogram"
           }
          ],
          "histogram2d": [
           {
            "colorbar": {
             "outlinewidth": 0,
             "ticks": ""
            },
            "colorscale": [
             [
              0,
              "#0d0887"
             ],
             [
              0.1111111111111111,
              "#46039f"
             ],
             [
              0.2222222222222222,
              "#7201a8"
             ],
             [
              0.3333333333333333,
              "#9c179e"
             ],
             [
              0.4444444444444444,
              "#bd3786"
             ],
             [
              0.5555555555555556,
              "#d8576b"
             ],
             [
              0.6666666666666666,
              "#ed7953"
             ],
             [
              0.7777777777777778,
              "#fb9f3a"
             ],
             [
              0.8888888888888888,
              "#fdca26"
             ],
             [
              1,
              "#f0f921"
             ]
            ],
            "type": "histogram2d"
           }
          ],
          "histogram2dcontour": [
           {
            "colorbar": {
             "outlinewidth": 0,
             "ticks": ""
            },
            "colorscale": [
             [
              0,
              "#0d0887"
             ],
             [
              0.1111111111111111,
              "#46039f"
             ],
             [
              0.2222222222222222,
              "#7201a8"
             ],
             [
              0.3333333333333333,
              "#9c179e"
             ],
             [
              0.4444444444444444,
              "#bd3786"
             ],
             [
              0.5555555555555556,
              "#d8576b"
             ],
             [
              0.6666666666666666,
              "#ed7953"
             ],
             [
              0.7777777777777778,
              "#fb9f3a"
             ],
             [
              0.8888888888888888,
              "#fdca26"
             ],
             [
              1,
              "#f0f921"
             ]
            ],
            "type": "histogram2dcontour"
           }
          ],
          "mesh3d": [
           {
            "colorbar": {
             "outlinewidth": 0,
             "ticks": ""
            },
            "type": "mesh3d"
           }
          ],
          "parcoords": [
           {
            "line": {
             "colorbar": {
              "outlinewidth": 0,
              "ticks": ""
             }
            },
            "type": "parcoords"
           }
          ],
          "pie": [
           {
            "automargin": true,
            "type": "pie"
           }
          ],
          "scatter": [
           {
            "fillpattern": {
             "fillmode": "overlay",
             "size": 10,
             "solidity": 0.2
            },
            "type": "scatter"
           }
          ],
          "scatter3d": [
           {
            "line": {
             "colorbar": {
              "outlinewidth": 0,
              "ticks": ""
             }
            },
            "marker": {
             "colorbar": {
              "outlinewidth": 0,
              "ticks": ""
             }
            },
            "type": "scatter3d"
           }
          ],
          "scattercarpet": [
           {
            "marker": {
             "colorbar": {
              "outlinewidth": 0,
              "ticks": ""
             }
            },
            "type": "scattercarpet"
           }
          ],
          "scattergeo": [
           {
            "marker": {
             "colorbar": {
              "outlinewidth": 0,
              "ticks": ""
             }
            },
            "type": "scattergeo"
           }
          ],
          "scattergl": [
           {
            "marker": {
             "colorbar": {
              "outlinewidth": 0,
              "ticks": ""
             }
            },
            "type": "scattergl"
           }
          ],
          "scattermapbox": [
           {
            "marker": {
             "colorbar": {
              "outlinewidth": 0,
              "ticks": ""
             }
            },
            "type": "scattermapbox"
           }
          ],
          "scatterpolar": [
           {
            "marker": {
             "colorbar": {
              "outlinewidth": 0,
              "ticks": ""
             }
            },
            "type": "scatterpolar"
           }
          ],
          "scatterpolargl": [
           {
            "marker": {
             "colorbar": {
              "outlinewidth": 0,
              "ticks": ""
             }
            },
            "type": "scatterpolargl"
           }
          ],
          "scatterternary": [
           {
            "marker": {
             "colorbar": {
              "outlinewidth": 0,
              "ticks": ""
             }
            },
            "type": "scatterternary"
           }
          ],
          "surface": [
           {
            "colorbar": {
             "outlinewidth": 0,
             "ticks": ""
            },
            "colorscale": [
             [
              0,
              "#0d0887"
             ],
             [
              0.1111111111111111,
              "#46039f"
             ],
             [
              0.2222222222222222,
              "#7201a8"
             ],
             [
              0.3333333333333333,
              "#9c179e"
             ],
             [
              0.4444444444444444,
              "#bd3786"
             ],
             [
              0.5555555555555556,
              "#d8576b"
             ],
             [
              0.6666666666666666,
              "#ed7953"
             ],
             [
              0.7777777777777778,
              "#fb9f3a"
             ],
             [
              0.8888888888888888,
              "#fdca26"
             ],
             [
              1,
              "#f0f921"
             ]
            ],
            "type": "surface"
           }
          ],
          "table": [
           {
            "cells": {
             "fill": {
              "color": "#EBF0F8"
             },
             "line": {
              "color": "white"
             }
            },
            "header": {
             "fill": {
              "color": "#C8D4E3"
             },
             "line": {
              "color": "white"
             }
            },
            "type": "table"
           }
          ]
         },
         "layout": {
          "annotationdefaults": {
           "arrowcolor": "#2a3f5f",
           "arrowhead": 0,
           "arrowwidth": 1
          },
          "autotypenumbers": "strict",
          "coloraxis": {
           "colorbar": {
            "outlinewidth": 0,
            "ticks": ""
           }
          },
          "colorscale": {
           "diverging": [
            [
             0,
             "#8e0152"
            ],
            [
             0.1,
             "#c51b7d"
            ],
            [
             0.2,
             "#de77ae"
            ],
            [
             0.3,
             "#f1b6da"
            ],
            [
             0.4,
             "#fde0ef"
            ],
            [
             0.5,
             "#f7f7f7"
            ],
            [
             0.6,
             "#e6f5d0"
            ],
            [
             0.7,
             "#b8e186"
            ],
            [
             0.8,
             "#7fbc41"
            ],
            [
             0.9,
             "#4d9221"
            ],
            [
             1,
             "#276419"
            ]
           ],
           "sequential": [
            [
             0,
             "#0d0887"
            ],
            [
             0.1111111111111111,
             "#46039f"
            ],
            [
             0.2222222222222222,
             "#7201a8"
            ],
            [
             0.3333333333333333,
             "#9c179e"
            ],
            [
             0.4444444444444444,
             "#bd3786"
            ],
            [
             0.5555555555555556,
             "#d8576b"
            ],
            [
             0.6666666666666666,
             "#ed7953"
            ],
            [
             0.7777777777777778,
             "#fb9f3a"
            ],
            [
             0.8888888888888888,
             "#fdca26"
            ],
            [
             1,
             "#f0f921"
            ]
           ],
           "sequentialminus": [
            [
             0,
             "#0d0887"
            ],
            [
             0.1111111111111111,
             "#46039f"
            ],
            [
             0.2222222222222222,
             "#7201a8"
            ],
            [
             0.3333333333333333,
             "#9c179e"
            ],
            [
             0.4444444444444444,
             "#bd3786"
            ],
            [
             0.5555555555555556,
             "#d8576b"
            ],
            [
             0.6666666666666666,
             "#ed7953"
            ],
            [
             0.7777777777777778,
             "#fb9f3a"
            ],
            [
             0.8888888888888888,
             "#fdca26"
            ],
            [
             1,
             "#f0f921"
            ]
           ]
          },
          "colorway": [
           "#636efa",
           "#EF553B",
           "#00cc96",
           "#ab63fa",
           "#FFA15A",
           "#19d3f3",
           "#FF6692",
           "#B6E880",
           "#FF97FF",
           "#FECB52"
          ],
          "font": {
           "color": "#2a3f5f"
          },
          "geo": {
           "bgcolor": "white",
           "lakecolor": "white",
           "landcolor": "white",
           "showlakes": true,
           "showland": true,
           "subunitcolor": "#C8D4E3"
          },
          "hoverlabel": {
           "align": "left"
          },
          "hovermode": "closest",
          "mapbox": {
           "style": "light"
          },
          "paper_bgcolor": "white",
          "plot_bgcolor": "white",
          "polar": {
           "angularaxis": {
            "gridcolor": "#EBF0F8",
            "linecolor": "#EBF0F8",
            "ticks": ""
           },
           "bgcolor": "white",
           "radialaxis": {
            "gridcolor": "#EBF0F8",
            "linecolor": "#EBF0F8",
            "ticks": ""
           }
          },
          "scene": {
           "xaxis": {
            "backgroundcolor": "white",
            "gridcolor": "#DFE8F3",
            "gridwidth": 2,
            "linecolor": "#EBF0F8",
            "showbackground": true,
            "ticks": "",
            "zerolinecolor": "#EBF0F8"
           },
           "yaxis": {
            "backgroundcolor": "white",
            "gridcolor": "#DFE8F3",
            "gridwidth": 2,
            "linecolor": "#EBF0F8",
            "showbackground": true,
            "ticks": "",
            "zerolinecolor": "#EBF0F8"
           },
           "zaxis": {
            "backgroundcolor": "white",
            "gridcolor": "#DFE8F3",
            "gridwidth": 2,
            "linecolor": "#EBF0F8",
            "showbackground": true,
            "ticks": "",
            "zerolinecolor": "#EBF0F8"
           }
          },
          "shapedefaults": {
           "line": {
            "color": "#2a3f5f"
           }
          },
          "ternary": {
           "aaxis": {
            "gridcolor": "#DFE8F3",
            "linecolor": "#A2B1C6",
            "ticks": ""
           },
           "baxis": {
            "gridcolor": "#DFE8F3",
            "linecolor": "#A2B1C6",
            "ticks": ""
           },
           "bgcolor": "white",
           "caxis": {
            "gridcolor": "#DFE8F3",
            "linecolor": "#A2B1C6",
            "ticks": ""
           }
          },
          "title": {
           "x": 0.05
          },
          "xaxis": {
           "automargin": true,
           "gridcolor": "#EBF0F8",
           "linecolor": "#EBF0F8",
           "ticks": "",
           "title": {
            "standoff": 15
           },
           "zerolinecolor": "#EBF0F8",
           "zerolinewidth": 2
          },
          "yaxis": {
           "automargin": true,
           "gridcolor": "#EBF0F8",
           "linecolor": "#EBF0F8",
           "ticks": "",
           "title": {
            "standoff": 15
           },
           "zerolinecolor": "#EBF0F8",
           "zerolinewidth": 2
          }
         }
        },
        "title": {
         "text": "Formation Energy Diagrams"
        },
        "xaxis": {
         "showgrid": false,
         "title": {
          "text": "Fermi Level (eV)"
         }
        },
        "yaxis": {
         "showgrid": false,
         "title": {
          "text": "Formation Energy (eV)"
         }
        }
       }
      },
      "image/png": "[encoded data removed]",
      "text/html": [
       "<div>                            <div id=\"ea495a3a-f017-4855-8633-ab6a9accd8b4\" class=\"plotly-graph-div\" style=\"height:525px; width:100%;\"></div>            <script type=\"text/javascript\">                require([\"plotly\"], function(Plotly) {                    window.PLOTLYENV=window.PLOTLYENV || {};                                    if (document.getElementById(\"ea495a3a-f017-4855-8633-ab6a9accd8b4\")) {                    Plotly.newPlot(                        \"ea495a3a-f017-4855-8633-ab6a9accd8b4\",                        [{\"hoverinfo\":\"x\",\"line\":{\"color\":\"#4C78A8\",\"dash\":\"solid\"},\"meta\":{\"formation_energy_plot\":true},\"mode\":\"lines+markers\",\"name\":\"Ga_N\",\"textposition\":\"top right\",\"x\":[0,2.079211860000007,2.286995130000056,4.2304],\"y\":[4.480810798333329,6.560022658333336,6.560022658333336,4.616617788333392],\"type\":\"scatter\"},{\"hoverinfo\":\"x\",\"line\":{\"color\":\"#F58518\",\"dash\":\"solid\"},\"meta\":{\"formation_energy_plot\":true},\"mode\":\"lines+markers\",\"name\":\"Ga_i:0\",\"textposition\":\"top right\",\"x\":[0,3.932427974999959,4.2304],\"y\":[5.513504000000057,9.445931975000017,9.147959949999976],\"type\":\"scatter\"},{\"hoverinfo\":\"x\",\"line\":{\"color\":\"#E45756\",\"dash\":\"solid\"},\"meta\":{\"formation_energy_plot\":true},\"mode\":\"lines+markers\",\"name\":\"Ga_i:1\",\"textposition\":\"top right\",\"x\":[0,3.406879640000077,3.4070033700000035,4.2304],\"y\":[5.9925646199999845,9.399444260000061,9.399444260000061,8.576047630000065],\"type\":\"scatter\"},{\"hoverinfo\":\"x\",\"line\":{\"color\":\"#72B7B2\",\"dash\":\"solid\"},\"meta\":{\"formation_energy_plot\":true},\"mode\":\"lines+markers\",\"name\":\"N_Ga\",\"textposition\":\"top right\",\"x\":[0,1.6793451999999918,4.2304],\"y\":[7.923581941666678,9.60292714166667,7.0518723416666615],\"type\":\"scatter\"},{\"hoverinfo\":\"x\",\"line\":{\"color\":\"#54A24B\",\"dash\":\"solid\"},\"meta\":{\"formation_energy_plot\":true},\"mode\":\"lines+markers\",\"name\":\"N_i:0\",\"textposition\":\"top right\",\"x\":[0,1.4779926999999793,1.932288350000043,4.2304],\"y\":[7.6624547316667035,9.140447431666683,9.140447431666683,6.842335781666725],\"type\":\"scatter\"},{\"hoverinfo\":\"x\",\"line\":{\"color\":\"#EECA3B\",\"dash\":\"solid\"},\"meta\":{\"formation_energy_plot\":true},\"mode\":\"lines+markers\",\"name\":\"N_i:1\",\"textposition\":\"top right\",\"x\":[0,1.5556560599999534,2.137154629999962,4.2304],\"y\":[5.188732401666717,6.74438846166667,6.74438846166667,4.651143091666632],\"type\":\"scatter\"},{\"hoverinfo\":\"x\",\"line\":{\"color\":\"#B279A2\",\"dash\":\"solid\"},\"meta\":{\"formation_energy_plot\":true},\"mode\":\"lines+markers\",\"name\":\"v_Ga\",\"textposition\":\"top right\",\"x\":[0,0.021019160000000703,0.6003690299999871,4.2304],\"y\":[7.4457512099999965,7.466770369999997,7.466770369999997,3.836739399999984],\"type\":\"scatter\"},{\"hoverinfo\":\"x\",\"line\":{\"color\":\"#FF9DA6\",\"dash\":\"solid\"},\"meta\":{\"formation_energy_plot\":true},\"mode\":\"lines+markers\",\"name\":\"v_N\",\"textposition\":\"top right\",\"x\":[0,2.8363563999999633,2.8937441600000033,4.2304],\"y\":[0.17699341833332216,3.0133498183332854,3.0133498183332854,1.6766939783332884],\"type\":\"scatter\"},{\"hoverinfo\":\"skip\",\"mode\":\"text\",\"name\":\"Ga_N:slope\",\"showlegend\":false,\"text\":[\"1\",\"0\",\"-1\"],\"textfont\":{\"color\":\"#4C78A8\"},\"textposition\":\"top center\",\"x\":[1.0396059300000036,2.1831034950000316,3.2586975650000283],\"y\":[5.520416728333332,6.560022658333336,5.588320223333364],\"type\":\"scatter\"},{\"hoverinfo\":\"skip\",\"mode\":\"text\",\"name\":\"Ga_i:0:slope\",\"showlegend\":false,\"text\":[\"1\",\"-1\"],\"textfont\":{\"color\":\"#F58518\"},\"textposition\":\"top center\",\"x\":[1.9662139874999796,4.08141398749998],\"y\":[7.479717987500036,9.296945962499997],\"type\":\"scatter\"},{\"hoverinfo\":\"skip\",\"mode\":\"text\",\"name\":\"Ga_i:1:slope\",\"showlegend\":false,\"text\":[\"1\",\"0\",\"-1\"],\"textfont\":{\"color\":\"#E45756\"},\"textposition\":\"top center\",\"x\":[1.7034398200000385,3.4069415050000402,3.818701685000002],\"y\":[7.6960044400000225,9.399444260000061,8.987745945000064],\"type\":\"scatter\"},{\"hoverinfo\":\"skip\",\"mode\":\"text\",\"name\":\"N_Ga:slope\",\"showlegend\":false,\"text\":[\"1\",\"-1\"],\"textfont\":{\"color\":\"#72B7B2\"},\"textposition\":\"top center\",\"x\":[0.8396725999999959,2.9548725999999963],\"y\":[8.763254541666674,8.327399741666666],\"type\":\"scatter\"},{\"hoverinfo\":\"skip\",\"mode\":\"text\",\"name\":\"N_i:0:slope\",\"showlegend\":false,\"text\":[\"1\",\"0\",\"-1\"],\"textfont\":{\"color\":\"#54A24B\"},\"textposition\":\"top center\",\"x\":[0.7389963499999896,1.7051405250000111,3.0813441750000217],\"y\":[8.401451081666693,9.140447431666683,7.991391606666705],\"type\":\"scatter\"},{\"hoverinfo\":\"skip\",\"mode\":\"text\",\"name\":\"N_i:1:slope\",\"showlegend\":false,\"text\":[\"1\",\"0\",\"-1\"],\"textfont\":{\"color\":\"#EECA3B\"},\"textposition\":\"top center\",\"x\":[0.7778280299999767,1.8464053449999578,3.1837773149999813],\"y\":[5.966560431666693,6.74438846166667,5.697765776666651],\"type\":\"scatter\"},{\"hoverinfo\":\"skip\",\"mode\":\"text\",\"name\":\"v_Ga:slope\",\"showlegend\":false,\"text\":[\"1\",\"0\",\"-1\"],\"textfont\":{\"color\":\"#B279A2\"},\"textposition\":\"top center\",\"x\":[0.010509580000000351,0.3106940949999939,2.4153845149999937],\"y\":[7.456260789999996,7.466770369999997,5.65175488499999],\"type\":\"scatter\"},{\"hoverinfo\":\"skip\",\"mode\":\"text\",\"name\":\"v_N:slope\",\"showlegend\":false,\"text\":[\"1\",\"0\",\"-1\"],\"textfont\":{\"color\":\"#FF9DA6\"},\"textposition\":\"top center\",\"x\":[1.4181781999999816,2.8650502799999833,3.562072080000002],\"y\":[1.5951716183333038,3.0133498183332854,2.345021898333287],\"type\":\"scatter\"}],                        {\"template\":{\"data\":{\"barpolar\":[{\"marker\":{\"line\":{\"color\":\"white\",\"width\":0.5},\"pattern\":{\"fillmode\":\"overlay\",\"size\":10,\"solidity\":0.2}},\"type\":\"barpolar\"}],\"bar\":[{\"error_x\":{\"color\":\"#2a3f5f\"},\"error_y\":{\"color\":\"#2a3f5f\"},\"marker\":{\"line\":{\"color\":\"white\",\"width\":0.5},\"pattern\":{\"fillmode\":\"overlay\",\"size\":10,\"solidity\":0.2}},\"type\":\"bar\"}],\"carpet\":[{\"aaxis\":{\"endlinecolor\":\"#2a3f5f\",\"gridcolor\":\"#C8D4E3\",\"linecolor\":\"#C8D4E3\",\"minorgridcolor\":\"#C8D4E3\",\"startlinecolor\":\"#2a3f5f\"},\"baxis\":{\"endlinecolor\":\"#2a3f5f\",\"gridcolor\":\"#C8D4E3\",\"linecolor\":\"#C8D4E3\",\"minorgridcolor\":\"#C8D4E3\",\"startlinecolor\":\"#2a3f5f\"},\"type\":\"carpet\"}],\"choropleth\":[{\"colorbar\":{\"outlinewidth\":0,\"ticks\":\"\"},\"type\":\"choropleth\"}],\"contourcarpet\":[{\"colorbar\":{\"outlinewidth\":0,\"ticks\":\"\"},\"type\":\"contourcarpet\"}],\"contour\":[{\"colorbar\":{\"outlinewidth\":0,\"ticks\":\"\"},\"colorscale\":[[0.0,\"#0d0887\"],[0.1111111111111111,\"#46039f\"],[0.2222222222222222,\"#7201a8\"],[0.3333333333333333,\"#9c179e\"],[0.4444444444444444,\"#bd3786\"],[0.5555555555555556,\"#d8576b\"],[0.6666666666666666,\"#ed7953\"],[0.7777777777777778,\"#fb9f3a\"],[0.8888888888888888,\"#fdca26\"],[1.0,\"#f0f921\"]],\"type\":\"contour\"}],\"heatmapgl\":[{\"colorbar\":{\"outlinewidth\":0,\"ticks\":\"\"},\"colorscale\":[[0.0,\"#0d0887\"],[0.1111111111111111,\"#46039f\"],[0.2222222222222222,\"#7201a8\"],[0.3333333333333333,\"#9c179e\"],[0.4444444444444444,\"#bd3786\"],[0.5555555555555556,\"#d8576b\"],[0.6666666666666666,\"#ed7953\"],[0.7777777777777778,\"#fb9f3a\"],[0.8888888888888888,\"#fdca26\"],[1.0,\"#f0f921\"]],\"type\":\"heatmapgl\"}],\"heatmap\":[{\"colorbar\":{\"outlinewidth\":0,\"ticks\":\"\"},\"colorscale\":[[0.0,\"#0d0887\"],[0.1111111111111111,\"#46039f\"],[0.2222222222222222,\"#7201a8\"],[0.3333333333333333,\"#9c179e\"],[0.4444444444444444,\"#bd3786\"],[0.5555555555555556,\"#d8576b\"],[0.6666666666666666,\"#ed7953\"],[0.7777777777777778,\"#fb9f3a\"],[0.8888888888888888,\"#fdca26\"],[1.0,\"#f0f921\"]],\"type\":\"heatmap\"}],\"histogram2dcontour\":[{\"colorbar\":{\"outlinewidth\":0,\"ticks\":\"\"},\"colorscale\":[[0.0,\"#0d0887\"],[0.1111111111111111,\"#46039f\"],[0.2222222222222222,\"#7201a8\"],[0.3333333333333333,\"#9c179e\"],[0.4444444444444444,\"#bd3786\"],[0.5555555555555556,\"#d8576b\"],[0.6666666666666666,\"#ed7953\"],[0.7777777777777778,\"#fb9f3a\"],[0.8888888888888888,\"#fdca26\"],[1.0,\"#f0f921\"]],\"type\":\"histogram2dcontour\"}],\"histogram2d\":[{\"colorbar\":{\"outlinewidth\":0,\"ticks\":\"\"},\"colorscale\":[[0.0,\"#0d0887\"],[0.1111111111111111,\"#46039f\"],[0.2222222222222222,\"#7201a8\"],[0.3333333333333333,\"#9c179e\"],[0.4444444444444444,\"#bd3786\"],[0.5555555555555556,\"#d8576b\"],[0.6666666666666666,\"#ed7953\"],[0.7777777777777778,\"#fb9f3a\"],[0.8888888888888888,\"#fdca26\"],[1.0,\"#f0f921\"]],\"type\":\"histogram2d\"}],\"histogram\":[{\"marker\":{\"pattern\":{\"fillmode\":\"overlay\",\"size\":10,\"solidity\":0.2}},\"type\":\"histogram\"}],\"mesh3d\":[{\"colorbar\":{\"outlinewidth\":0,\"ticks\":\"\"},\"type\":\"mesh3d\"}],\"parcoords\":[{\"line\":{\"colorbar\":{\"outlinewidth\":0,\"ticks\":\"\"}},\"type\":\"parcoords\"}],\"pie\":[{\"automargin\":true,\"type\":\"pie\"}],\"scatter3d\":[{\"line\":{\"colorbar\":{\"outlinewidth\":0,\"ticks\":\"\"}},\"marker\":{\"colorbar\":{\"outlinewidth\":0,\"ticks\":\"\"}},\"type\":\"scatter3d\"}],\"scattercarpet\":[{\"marker\":{\"colorbar\":{\"outlinewidth\":0,\"ticks\":\"\"}},\"type\":\"scattercarpet\"}],\"scattergeo\":[{\"marker\":{\"colorbar\":{\"outlinewidth\":0,\"ticks\":\"\"}},\"type\":\"scattergeo\"}],\"scattergl\":[{\"marker\":{\"colorbar\":{\"outlinewidth\":0,\"ticks\":\"\"}},\"type\":\"scattergl\"}],\"scattermapbox\":[{\"marker\":{\"colorbar\":{\"outlinewidth\":0,\"ticks\":\"\"}},\"type\":\"scattermapbox\"}],\"scatterpolargl\":[{\"marker\":{\"colorbar\":{\"outlinewidth\":0,\"ticks\":\"\"}},\"type\":\"scatterpolargl\"}],\"scatterpolar\":[{\"marker\":{\"colorbar\":{\"outlinewidth\":0,\"ticks\":\"\"}},\"type\":\"scatterpolar\"}],\"scatter\":[{\"fillpattern\":{\"fillmode\":\"overlay\",\"size\":10,\"solidity\":0.2},\"type\":\"scatter\"}],\"scatterternary\":[{\"marker\":{\"colorbar\":{\"outlinewidth\":0,\"ticks\":\"\"}},\"type\":\"scatterternary\"}],\"surface\":[{\"colorbar\":{\"outlinewidth\":0,\"ticks\":\"\"},\"colorscale\":[[0.0,\"#0d0887\"],[0.1111111111111111,\"#46039f\"],[0.2222222222222222,\"#7201a8\"],[0.3333333333333333,\"#9c179e\"],[0.4444444444444444,\"#bd3786\"],[0.5555555555555556,\"#d8576b\"],[0.6666666666666666,\"#ed7953\"],[0.7777777777777778,\"#fb9f3a\"],[0.8888888888888888,\"#fdca26\"],[1.0,\"#f0f921\"]],\"type\":\"surface\"}],\"table\":[{\"cells\":{\"fill\":{\"color\":\"#EBF0F8\"},\"line\":{\"color\":\"white\"}},\"header\":{\"fill\":{\"color\":\"#C8D4E3\"},\"line\":{\"color\":\"white\"}},\"type\":\"table\"}]},\"layout\":{\"annotationdefaults\":{\"arrowcolor\":\"#2a3f5f\",\"arrowhead\":0,\"arrowwidth\":1},\"autotypenumbers\":\"strict\",\"coloraxis\":{\"colorbar\":{\"outlinewidth\":0,\"ticks\":\"\"}},\"colorscale\":{\"diverging\":[[0,\"#8e0152\"],[0.1,\"#c51b7d\"],[0.2,\"#de77ae\"],[0.3,\"#f1b6da\"],[0.4,\"#fde0ef\"],[0.5,\"#f7f7f7\"],[0.6,\"#e6f5d0\"],[0.7,\"#b8e186\"],[0.8,\"#7fbc41\"],[0.9,\"#4d9221\"],[1,\"#276419\"]],\"sequential\":[[0.0,\"#0d0887\"],[0.1111111111111111,\"#46039f\"],[0.2222222222222222,\"#7201a8\"],[0.3333333333333333,\"#9c179e\"],[0.4444444444444444,\"#bd3786\"],[0.5555555555555556,\"#d8576b\"],[0.6666666666666666,\"#ed7953\"],[0.7777777777777778,\"#fb9f3a\"],[0.8888888888888888,\"#fdca26\"],[1.0,\"#f0f921\"]],\"sequentialminus\":[[0.0,\"#0d0887\"],[0.1111111111111111,\"#46039f\"],[0.2222222222222222,\"#7201a8\"],[0.3333333333333333,\"#9c179e\"],[0.4444444444444444,\"#bd3786\"],[0.5555555555555556,\"#d8576b\"],[0.6666666666666666,\"#ed7953\"],[0.7777777777777778,\"#fb9f3a\"],[0.8888888888888888,\"#fdca26\"],[1.0,\"#f0f921\"]]},\"colorway\":[\"#636efa\",\"#EF553B\",\"#00cc96\",\"#ab63fa\",\"#FFA15A\",\"#19d3f3\",\"#FF6692\",\"#B6E880\",\"#FF97FF\",\"#FECB52\"],\"font\":{\"color\":\"#2a3f5f\"},\"geo\":{\"bgcolor\":\"white\",\"lakecolor\":\"white\",\"landcolor\":\"white\",\"showlakes\":true,\"showland\":true,\"subunitcolor\":\"#C8D4E3\"},\"hoverlabel\":{\"align\":\"left\"},\"hovermode\":\"closest\",\"mapbox\":{\"style\":\"light\"},\"paper_bgcolor\":\"white\",\"plot_bgcolor\":\"white\",\"polar\":{\"angularaxis\":{\"gridcolor\":\"#EBF0F8\",\"linecolor\":\"#EBF0F8\",\"ticks\":\"\"},\"bgcolor\":\"white\",\"radialaxis\":{\"gridcolor\":\"#EBF0F8\",\"linecolor\":\"#EBF0F8\",\"ticks\":\"\"}},\"scene\":{\"xaxis\":{\"backgroundcolor\":\"white\",\"gridcolor\":\"#DFE8F3\",\"gridwidth\":2,\"linecolor\":\"#EBF0F8\",\"showbackground\":true,\"ticks\":\"\",\"zerolinecolor\":\"#EBF0F8\"},\"yaxis\":{\"backgroundcolor\":\"white\",\"gridcolor\":\"#DFE8F3\",\"gridwidth\":2,\"linecolor\":\"#EBF0F8\",\"showbackground\":true,\"ticks\":\"\",\"zerolinecolor\":\"#EBF0F8\"},\"zaxis\":{\"backgroundcolor\":\"white\",\"gridcolor\":\"#DFE8F3\",\"gridwidth\":2,\"linecolor\":\"#EBF0F8\",\"showbackground\":true,\"ticks\":\"\",\"zerolinecolor\":\"#EBF0F8\"}},\"shapedefaults\":{\"line\":{\"color\":\"#2a3f5f\"}},\"ternary\":{\"aaxis\":{\"gridcolor\":\"#DFE8F3\",\"linecolor\":\"#A2B1C6\",\"ticks\":\"\"},\"baxis\":{\"gridcolor\":\"#DFE8F3\",\"linecolor\":\"#A2B1C6\",\"ticks\":\"\"},\"bgcolor\":\"white\",\"caxis\":{\"gridcolor\":\"#DFE8F3\",\"linecolor\":\"#A2B1C6\",\"ticks\":\"\"}},\"title\":{\"x\":0.05},\"xaxis\":{\"automargin\":true,\"gridcolor\":\"#EBF0F8\",\"linecolor\":\"#EBF0F8\",\"ticks\":\"\",\"title\":{\"standoff\":15},\"zerolinecolor\":\"#EBF0F8\",\"zerolinewidth\":2},\"yaxis\":{\"automargin\":true,\"gridcolor\":\"#EBF0F8\",\"linecolor\":\"#EBF0F8\",\"ticks\":\"\",\"title\":{\"standoff\":15},\"zerolinecolor\":\"#EBF0F8\",\"zerolinewidth\":2}}},\"annotations\":[{\"arrowcolor\":\"#4C78A8\",\"bgcolor\":\"white\",\"bordercolor\":\"#4C78A8\",\"font\":{\"color\":\"#4C78A8\"},\"text\":\"Ga_N\",\"x\":0.2644,\"y\":4.745210798333329},{\"arrowcolor\":\"#F58518\",\"bgcolor\":\"white\",\"bordercolor\":\"#F58518\",\"font\":{\"color\":\"#F58518\"},\"text\":\"Ga_i:0\",\"x\":0.7932000000000001,\"y\":6.306704000000058},{\"arrowcolor\":\"#E45756\",\"bgcolor\":\"white\",\"bordercolor\":\"#E45756\",\"font\":{\"color\":\"#E45756\"},\"text\":\"Ga_i:1\",\"x\":1.322,\"y\":7.3145646199999845},{\"arrowcolor\":\"#72B7B2\",\"bgcolor\":\"white\",\"bordercolor\":\"#72B7B2\",\"font\":{\"color\":\"#72B7B2\"},\"text\":\"N_Ga\",\"x\":1.8508000000000002,\"y\":9.431472341666662},{\"arrowcolor\":\"#54A24B\",\"bgcolor\":\"white\",\"bordercolor\":\"#54A24B\",\"font\":{\"color\":\"#54A24B\"},\"text\":\"N_i:0\",\"x\":2.3796000000000004,\"y\":8.693135781666726},{\"arrowcolor\":\"#EECA3B\",\"bgcolor\":\"white\",\"bordercolor\":\"#EECA3B\",\"font\":{\"color\":\"#EECA3B\"},\"text\":\"N_i:1\",\"x\":2.9084000000000003,\"y\":5.973143091666632},{\"arrowcolor\":\"#B279A2\",\"bgcolor\":\"white\",\"bordercolor\":\"#B279A2\",\"font\":{\"color\":\"#B279A2\"},\"text\":\"v_Ga\",\"x\":3.4372000000000007,\"y\":4.629939399999984},{\"arrowcolor\":\"#FF9DA6\",\"bgcolor\":\"white\",\"bordercolor\":\"#FF9DA6\",\"font\":{\"color\":\"#FF9DA6\"},\"text\":\"v_N\",\"x\":3.9660000000000006,\"y\":1.9410939783332881}],\"font\":{\"family\":\"Helvetica\"},\"xaxis\":{\"title\":{\"text\":\"Fermi Level (eV)\"},\"showgrid\":false},\"yaxis\":{\"title\":{\"text\":\"Formation Energy (eV)\"},\"showgrid\":false},\"title\":{\"text\":\"Formation Energy Diagrams\"},\"showlegend\":false},                        {\"responsive\": true}                    ).then(function(){\n",
       "                            \n",
       "var gd = document.getElementById('ea495a3a-f017-4855-8633-ab6a9accd8b4');\n",
       "var x = new MutationObserver(function (mutations, observer) {{\n",
       "        var display = window.getComputedStyle(gd).display;\n",
       "        if (!display || display === 'none') {{\n",
       "            console.log([gd, 'removed!']);\n",
       "            Plotly.purge(gd);\n",
       "            observer.disconnect();\n",
       "        }}\n",
       "}});\n",
       "\n",
       "// Listen for the removal of the full notebook cells\n",
       "var notebookContainer = gd.closest('#notebook-container');\n",
       "if (notebookContainer) {{\n",
       "    x.observe(notebookContainer, {childList: true});\n",
       "}}\n",
       "\n",
       "// Listen for the clearing of the current output cell\n",
       "var outputEl = gd.closest('.output');\n",
       "if (outputEl) {{\n",
       "    x.observe(outputEl, {childList: true});\n",
       "}}\n",
       "\n",
       "                        })                };                });            </script>        </div>"
      ]
     },
     "metadata": {},
     "output_type": "display_data"
    }
   ],
   "source": [
    "fed = formation_energies_diagrams[0]\n",
    "chempot = fed.get_chempots(rich_element=\"Ga\")\n",
    "plot_formation_energy_diagrams(formation_energies_diagrams, chempot=chempot)"
   ]
  },
  {
   "cell_type": "code",
   "execution_count": 42,
   "metadata": {},
   "outputs": [
    {
     "data": {
      "application/vnd.plotly.v1+json": {
       "config": {
        "plotlyServerURL": "https://plot.ly"
       },
       "data": [
        {
         "hoverinfo": "x",
         "line": {
          "color": "#4C78A8",
          "dash": "solid"
         },
         "meta": {
          "formation_energy_plot": true
         },
         "mode": "lines+markers",
         "name": "Ga_N",
         "textposition": "top right",
         "type": "scatter",
         "x": [
          0,
          2.079211860000007,
          2.2869951300000597,
          4.2304
         ],
         "y": [
          7.1610917591666725,
          9.24030361916668,
          9.24030361916668,
          7.296898749166739
         ]
        },
        {
         "hoverinfo": "x",
         "line": {
          "color": "#F58518",
          "dash": "solid"
         },
         "meta": {
          "formation_energy_plot": true
         },
         "mode": "lines+markers",
         "name": "Ga_i:0",
         "textposition": "top right",
         "type": "scatter",
         "x": [
          0,
          3.932427974999959,
          4.2304
         ],
         "y": [
          6.853644480416729,
          10.786072455416688,
          10.488100430416647
         ]
        },
        {
         "hoverinfo": "x",
         "line": {
          "color": "#E45756",
          "dash": "solid"
         },
         "meta": {
          "formation_energy_plot": true
         },
         "mode": "lines+markers",
         "name": "Ga_i:1",
         "textposition": "top right",
         "type": "scatter",
         "x": [
          0,
          3.406879640000077,
          3.4070033700000035,
          4.2304
         ],
         "y": [
          7.332705100416656,
          10.739584740416733,
          10.739584740416733,
          9.916188110416737
         ]
        },
        {
         "hoverinfo": "x",
         "line": {
          "color": "#72B7B2",
          "dash": "solid"
         },
         "meta": {
          "formation_energy_plot": true
         },
         "mode": "lines+markers",
         "name": "N_Ga",
         "textposition": "top right",
         "type": "scatter",
         "x": [
          0,
          1.6793451999999918,
          4.2304
         ],
         "y": [
          5.243300980833335,
          6.922646180833327,
          4.371591380833318
         ]
        },
        {
         "hoverinfo": "x",
         "line": {
          "color": "#54A24B",
          "dash": "solid"
         },
         "meta": {
          "formation_energy_plot": true
         },
         "mode": "lines+markers",
         "name": "N_i:0",
         "textposition": "top right",
         "type": "scatter",
         "x": [
          0,
          1.4779926999999793,
          1.932288350000043,
          4.2304
         ],
         "y": [
          6.322314251250032,
          7.800306951250011,
          7.800306951250011,
          5.502195301250054
         ]
        },
        {
         "hoverinfo": "x",
         "line": {
          "color": "#EECA3B",
          "dash": "solid"
         },
         "meta": {
          "formation_energy_plot": true
         },
         "mode": "lines+markers",
         "name": "N_i:1",
         "textposition": "top right",
         "type": "scatter",
         "x": [
          0,
          1.5556560599999534,
          2.1371546299999613,
          4.2304
         ],
         "y": [
          3.848591921250045,
          5.404247981249998,
          5.404247981249998,
          3.3110026112499593
         ]
        },
        {
         "hoverinfo": "x",
         "line": {
          "color": "#B279A2",
          "dash": "solid"
         },
         "meta": {
          "formation_energy_plot": true
         },
         "mode": "lines+markers",
         "name": "v_Ga",
         "textposition": "top right",
         "type": "scatter",
         "x": [
          0,
          0.021019160000000703,
          0.600369029999988,
          4.2304
         ],
         "y": [
          6.105610729583325,
          6.1266298895833256,
          6.1266298895833256,
          2.496598919583313
         ]
        },
        {
         "hoverinfo": "x",
         "line": {
          "color": "#FF9DA6",
          "dash": "solid"
         },
         "meta": {
          "formation_energy_plot": true
         },
         "mode": "lines+markers",
         "name": "v_N",
         "textposition": "top right",
         "type": "scatter",
         "x": [
          0,
          2.8363563999999633,
          2.8937441600000033,
          4.2304
         ],
         "y": [
          1.5171338987499938,
          4.353490298749957,
          4.353490298749957,
          3.01683445874996
         ]
        },
        {
         "hoverinfo": "skip",
         "mode": "text",
         "name": "Ga_N:slope",
         "showlegend": false,
         "text": [
          "1",
          "0",
          "-1"
         ],
         "textfont": {
          "color": "#4C78A8"
         },
         "textposition": "top center",
         "type": "scatter",
         "x": [
          1.0396059300000036,
          2.1831034950000334,
          3.25869756500003
         ],
         "y": [
          8.200697689166676,
          9.24030361916668,
          8.268601184166709
         ]
        },
        {
         "hoverinfo": "skip",
         "mode": "text",
         "name": "Ga_i:0:slope",
         "showlegend": false,
         "text": [
          "1",
          "-1"
         ],
         "textfont": {
          "color": "#F58518"
         },
         "textposition": "top center",
         "type": "scatter",
         "x": [
          1.9662139874999796,
          4.08141398749998
         ],
         "y": [
          8.819858467916708,
          10.637086442916669
         ]
        },
        {
         "hoverinfo": "skip",
         "mode": "text",
         "name": "Ga_i:1:slope",
         "showlegend": false,
         "text": [
          "1",
          "0",
          "-1"
         ],
         "textfont": {
          "color": "#E45756"
         },
         "textposition": "top center",
         "type": "scatter",
         "x": [
          1.7034398200000385,
          3.4069415050000402,
          3.818701685000002
         ],
         "y": [
          9.036144920416694,
          10.739584740416733,
          10.327886425416736
         ]
        },
        {
         "hoverinfo": "skip",
         "mode": "text",
         "name": "N_Ga:slope",
         "showlegend": false,
         "text": [
          "1",
          "-1"
         ],
         "textfont": {
          "color": "#72B7B2"
         },
         "textposition": "top center",
         "type": "scatter",
         "x": [
          0.8396725999999959,
          2.9548725999999963
         ],
         "y": [
          6.082973580833331,
          5.647118780833322
         ]
        },
        {
         "hoverinfo": "skip",
         "mode": "text",
         "name": "N_i:0:slope",
         "showlegend": false,
         "text": [
          "1",
          "0",
          "-1"
         ],
         "textfont": {
          "color": "#54A24B"
         },
         "textposition": "top center",
         "type": "scatter",
         "x": [
          0.7389963499999896,
          1.7051405250000111,
          3.0813441750000217
         ],
         "y": [
          7.061310601250021,
          7.800306951250011,
          6.651251126250033
         ]
        },
        {
         "hoverinfo": "skip",
         "mode": "text",
         "name": "N_i:1:slope",
         "showlegend": false,
         "text": [
          "1",
          "0",
          "-1"
         ],
         "textfont": {
          "color": "#EECA3B"
         },
         "textposition": "top center",
         "type": "scatter",
         "x": [
          0.7778280299999767,
          1.8464053449999573,
          3.183777314999981
         ],
         "y": [
          4.626419951250021,
          5.404247981249998,
          4.357625296249979
         ]
        },
        {
         "hoverinfo": "skip",
         "mode": "text",
         "name": "v_Ga:slope",
         "showlegend": false,
         "text": [
          "1",
          "0",
          "-1"
         ],
         "textfont": {
          "color": "#B279A2"
         },
         "textposition": "top center",
         "type": "scatter",
         "x": [
          0.010509580000000351,
          0.31069409499999434,
          2.415384514999994
         ],
         "y": [
          6.116120309583325,
          6.1266298895833256,
          4.311614404583319
         ]
        },
        {
         "hoverinfo": "skip",
         "mode": "text",
         "name": "v_N:slope",
         "showlegend": false,
         "text": [
          "1",
          "0",
          "-1"
         ],
         "textfont": {
          "color": "#FF9DA6"
         },
         "textposition": "top center",
         "type": "scatter",
         "x": [
          1.4181781999999816,
          2.8650502799999833,
          3.562072080000002
         ],
         "y": [
          2.9353120987499755,
          4.353490298749957,
          3.6851623787499586
         ]
        }
       ],
       "layout": {
        "annotations": [
         {
          "arrowcolor": "#4C78A8",
          "bgcolor": "white",
          "bordercolor": "#4C78A8",
          "font": {
           "color": "#4C78A8"
          },
          "text": "Ga_N",
          "x": 0.2644,
          "y": 7.425491759166673
         },
         {
          "arrowcolor": "#F58518",
          "bgcolor": "white",
          "bordercolor": "#F58518",
          "font": {
           "color": "#F58518"
          },
          "text": "Ga_i:0",
          "x": 0.7932000000000001,
          "y": 7.646844480416729
         },
         {
          "arrowcolor": "#E45756",
          "bgcolor": "white",
          "bordercolor": "#E45756",
          "font": {
           "color": "#E45756"
          },
          "text": "Ga_i:1",
          "x": 1.322,
          "y": 8.654705100416656
         },
         {
          "arrowcolor": "#72B7B2",
          "bgcolor": "white",
          "bordercolor": "#72B7B2",
          "font": {
           "color": "#72B7B2"
          },
          "text": "N_Ga",
          "x": 1.8508000000000002,
          "y": 6.751191380833319
         },
         {
          "arrowcolor": "#54A24B",
          "bgcolor": "white",
          "bordercolor": "#54A24B",
          "font": {
           "color": "#54A24B"
          },
          "text": "N_i:0",
          "x": 2.3796000000000004,
          "y": 7.352995301250054
         },
         {
          "arrowcolor": "#EECA3B",
          "bgcolor": "white",
          "bordercolor": "#EECA3B",
          "font": {
           "color": "#EECA3B"
          },
          "text": "N_i:1",
          "x": 2.9084000000000003,
          "y": 4.633002611249959
         },
         {
          "arrowcolor": "#B279A2",
          "bgcolor": "white",
          "bordercolor": "#B279A2",
          "font": {
           "color": "#B279A2"
          },
          "text": "v_Ga",
          "x": 3.4372000000000007,
          "y": 3.289798919583313
         },
         {
          "arrowcolor": "#FF9DA6",
          "bgcolor": "white",
          "bordercolor": "#FF9DA6",
          "font": {
           "color": "#FF9DA6"
          },
          "text": "v_N",
          "x": 3.9660000000000006,
          "y": 3.28123445874996
         }
        ],
        "font": {
         "family": "Helvetica"
        },
        "showlegend": false,
        "template": {
         "data": {
          "bar": [
           {
            "error_x": {
             "color": "#2a3f5f"
            },
            "error_y": {
             "color": "#2a3f5f"
            },
            "marker": {
             "line": {
              "color": "white",
              "width": 0.5
             },
             "pattern": {
              "fillmode": "overlay",
              "size": 10,
              "solidity": 0.2
             }
            },
            "type": "bar"
           }
          ],
          "barpolar": [
           {
            "marker": {
             "line": {
              "color": "white",
              "width": 0.5
             },
             "pattern": {
              "fillmode": "overlay",
              "size": 10,
              "solidity": 0.2
             }
            },
            "type": "barpolar"
           }
          ],
          "carpet": [
           {
            "aaxis": {
             "endlinecolor": "#2a3f5f",
             "gridcolor": "#C8D4E3",
             "linecolor": "#C8D4E3",
             "minorgridcolor": "#C8D4E3",
             "startlinecolor": "#2a3f5f"
            },
            "baxis": {
             "endlinecolor": "#2a3f5f",
             "gridcolor": "#C8D4E3",
             "linecolor": "#C8D4E3",
             "minorgridcolor": "#C8D4E3",
             "startlinecolor": "#2a3f5f"
            },
            "type": "carpet"
           }
          ],
          "choropleth": [
           {
            "colorbar": {
             "outlinewidth": 0,
             "ticks": ""
            },
            "type": "choropleth"
           }
          ],
          "contour": [
           {
            "colorbar": {
             "outlinewidth": 0,
             "ticks": ""
            },
            "colorscale": [
             [
              0,
              "#0d0887"
             ],
             [
              0.1111111111111111,
              "#46039f"
             ],
             [
              0.2222222222222222,
              "#7201a8"
             ],
             [
              0.3333333333333333,
              "#9c179e"
             ],
             [
              0.4444444444444444,
              "#bd3786"
             ],
             [
              0.5555555555555556,
              "#d8576b"
             ],
             [
              0.6666666666666666,
              "#ed7953"
             ],
             [
              0.7777777777777778,
              "#fb9f3a"
             ],
             [
              0.8888888888888888,
              "#fdca26"
             ],
             [
              1,
              "#f0f921"
             ]
            ],
            "type": "contour"
           }
          ],
          "contourcarpet": [
           {
            "colorbar": {
             "outlinewidth": 0,
             "ticks": ""
            },
            "type": "contourcarpet"
           }
          ],
          "heatmap": [
           {
            "colorbar": {
             "outlinewidth": 0,
             "ticks": ""
            },
            "colorscale": [
             [
              0,
              "#0d0887"
             ],
             [
              0.1111111111111111,
              "#46039f"
             ],
             [
              0.2222222222222222,
              "#7201a8"
             ],
             [
              0.3333333333333333,
              "#9c179e"
             ],
             [
              0.4444444444444444,
              "#bd3786"
             ],
             [
              0.5555555555555556,
              "#d8576b"
             ],
             [
              0.6666666666666666,
              "#ed7953"
             ],
             [
              0.7777777777777778,
              "#fb9f3a"
             ],
             [
              0.8888888888888888,
              "#fdca26"
             ],
             [
              1,
              "#f0f921"
             ]
            ],
            "type": "heatmap"
           }
          ],
          "heatmapgl": [
           {
            "colorbar": {
             "outlinewidth": 0,
             "ticks": ""
            },
            "colorscale": [
             [
              0,
              "#0d0887"
             ],
             [
              0.1111111111111111,
              "#46039f"
             ],
             [
              0.2222222222222222,
              "#7201a8"
             ],
             [
              0.3333333333333333,
              "#9c179e"
             ],
             [
              0.4444444444444444,
              "#bd3786"
             ],
             [
              0.5555555555555556,
              "#d8576b"
             ],
             [
              0.6666666666666666,
              "#ed7953"
             ],
             [
              0.7777777777777778,
              "#fb9f3a"
             ],
             [
              0.8888888888888888,
              "#fdca26"
             ],
             [
              1,
              "#f0f921"
             ]
            ],
            "type": "heatmapgl"
           }
          ],
          "histogram": [
           {
            "marker": {
             "pattern": {
              "fillmode": "overlay",
              "size": 10,
              "solidity": 0.2
             }
            },
            "type": "histogram"
           }
          ],
          "histogram2d": [
           {
            "colorbar": {
             "outlinewidth": 0,
             "ticks": ""
            },
            "colorscale": [
             [
              0,
              "#0d0887"
             ],
             [
              0.1111111111111111,
              "#46039f"
             ],
             [
              0.2222222222222222,
              "#7201a8"
             ],
             [
              0.3333333333333333,
              "#9c179e"
             ],
             [
              0.4444444444444444,
              "#bd3786"
             ],
             [
              0.5555555555555556,
              "#d8576b"
             ],
             [
              0.6666666666666666,
              "#ed7953"
             ],
             [
              0.7777777777777778,
              "#fb9f3a"
             ],
             [
              0.8888888888888888,
              "#fdca26"
             ],
             [
              1,
              "#f0f921"
             ]
            ],
            "type": "histogram2d"
           }
          ],
          "histogram2dcontour": [
           {
            "colorbar": {
             "outlinewidth": 0,
             "ticks": ""
            },
            "colorscale": [
             [
              0,
              "#0d0887"
             ],
             [
              0.1111111111111111,
              "#46039f"
             ],
             [
              0.2222222222222222,
              "#7201a8"
             ],
             [
              0.3333333333333333,
              "#9c179e"
             ],
             [
              0.4444444444444444,
              "#bd3786"
             ],
             [
              0.5555555555555556,
              "#d8576b"
             ],
             [
              0.6666666666666666,
              "#ed7953"
             ],
             [
              0.7777777777777778,
              "#fb9f3a"
             ],
             [
              0.8888888888888888,
              "#fdca26"
             ],
             [
              1,
              "#f0f921"
             ]
            ],
            "type": "histogram2dcontour"
           }
          ],
          "mesh3d": [
           {
            "colorbar": {
             "outlinewidth": 0,
             "ticks": ""
            },
            "type": "mesh3d"
           }
          ],
          "parcoords": [
           {
            "line": {
             "colorbar": {
              "outlinewidth": 0,
              "ticks": ""
             }
            },
            "type": "parcoords"
           }
          ],
          "pie": [
           {
            "automargin": true,
            "type": "pie"
           }
          ],
          "scatter": [
           {
            "fillpattern": {
             "fillmode": "overlay",
             "size": 10,
             "solidity": 0.2
            },
            "type": "scatter"
           }
          ],
          "scatter3d": [
           {
            "line": {
             "colorbar": {
              "outlinewidth": 0,
              "ticks": ""
             }
            },
            "marker": {
             "colorbar": {
              "outlinewidth": 0,
              "ticks": ""
             }
            },
            "type": "scatter3d"
           }
          ],
          "scattercarpet": [
           {
            "marker": {
             "colorbar": {
              "outlinewidth": 0,
              "ticks": ""
             }
            },
            "type": "scattercarpet"
           }
          ],
          "scattergeo": [
           {
            "marker": {
             "colorbar": {
              "outlinewidth": 0,
              "ticks": ""
             }
            },
            "type": "scattergeo"
           }
          ],
          "scattergl": [
           {
            "marker": {
             "colorbar": {
              "outlinewidth": 0,
              "ticks": ""
             }
            },
            "type": "scattergl"
           }
          ],
          "scattermapbox": [
           {
            "marker": {
             "colorbar": {
              "outlinewidth": 0,
              "ticks": ""
             }
            },
            "type": "scattermapbox"
           }
          ],
          "scatterpolar": [
           {
            "marker": {
             "colorbar": {
              "outlinewidth": 0,
              "ticks": ""
             }
            },
            "type": "scatterpolar"
           }
          ],
          "scatterpolargl": [
           {
            "marker": {
             "colorbar": {
              "outlinewidth": 0,
              "ticks": ""
             }
            },
            "type": "scatterpolargl"
           }
          ],
          "scatterternary": [
           {
            "marker": {
             "colorbar": {
              "outlinewidth": 0,
              "ticks": ""
             }
            },
            "type": "scatterternary"
           }
          ],
          "surface": [
           {
            "colorbar": {
             "outlinewidth": 0,
             "ticks": ""
            },
            "colorscale": [
             [
              0,
              "#0d0887"
             ],
             [
              0.1111111111111111,
              "#46039f"
             ],
             [
              0.2222222222222222,
              "#7201a8"
             ],
             [
              0.3333333333333333,
              "#9c179e"
             ],
             [
              0.4444444444444444,
              "#bd3786"
             ],
             [
              0.5555555555555556,
              "#d8576b"
             ],
             [
              0.6666666666666666,
              "#ed7953"
             ],
             [
              0.7777777777777778,
              "#fb9f3a"
             ],
             [
              0.8888888888888888,
              "#fdca26"
             ],
             [
              1,
              "#f0f921"
             ]
            ],
            "type": "surface"
           }
          ],
          "table": [
           {
            "cells": {
             "fill": {
              "color": "#EBF0F8"
             },
             "line": {
              "color": "white"
             }
            },
            "header": {
             "fill": {
              "color": "#C8D4E3"
             },
             "line": {
              "color": "white"
             }
            },
            "type": "table"
           }
          ]
         },
         "layout": {
          "annotationdefaults": {
           "arrowcolor": "#2a3f5f",
           "arrowhead": 0,
           "arrowwidth": 1
          },
          "autotypenumbers": "strict",
          "coloraxis": {
           "colorbar": {
            "outlinewidth": 0,
            "ticks": ""
           }
          },
          "colorscale": {
           "diverging": [
            [
             0,
             "#8e0152"
            ],
            [
             0.1,
             "#c51b7d"
            ],
            [
             0.2,
             "#de77ae"
            ],
            [
             0.3,
             "#f1b6da"
            ],
            [
             0.4,
             "#fde0ef"
            ],
            [
             0.5,
             "#f7f7f7"
            ],
            [
             0.6,
             "#e6f5d0"
            ],
            [
             0.7,
             "#b8e186"
            ],
            [
             0.8,
             "#7fbc41"
            ],
            [
             0.9,
             "#4d9221"
            ],
            [
             1,
             "#276419"
            ]
           ],
           "sequential": [
            [
             0,
             "#0d0887"
            ],
            [
             0.1111111111111111,
             "#46039f"
            ],
            [
             0.2222222222222222,
             "#7201a8"
            ],
            [
             0.3333333333333333,
             "#9c179e"
            ],
            [
             0.4444444444444444,
             "#bd3786"
            ],
            [
             0.5555555555555556,
             "#d8576b"
            ],
            [
             0.6666666666666666,
             "#ed7953"
            ],
            [
             0.7777777777777778,
             "#fb9f3a"
            ],
            [
             0.8888888888888888,
             "#fdca26"
            ],
            [
             1,
             "#f0f921"
            ]
           ],
           "sequentialminus": [
            [
             0,
             "#0d0887"
            ],
            [
             0.1111111111111111,
             "#46039f"
            ],
            [
             0.2222222222222222,
             "#7201a8"
            ],
            [
             0.3333333333333333,
             "#9c179e"
            ],
            [
             0.4444444444444444,
             "#bd3786"
            ],
            [
             0.5555555555555556,
             "#d8576b"
            ],
            [
             0.6666666666666666,
             "#ed7953"
            ],
            [
             0.7777777777777778,
             "#fb9f3a"
            ],
            [
             0.8888888888888888,
             "#fdca26"
            ],
            [
             1,
             "#f0f921"
            ]
           ]
          },
          "colorway": [
           "#636efa",
           "#EF553B",
           "#00cc96",
           "#ab63fa",
           "#FFA15A",
           "#19d3f3",
           "#FF6692",
           "#B6E880",
           "#FF97FF",
           "#FECB52"
          ],
          "font": {
           "color": "#2a3f5f"
          },
          "geo": {
           "bgcolor": "white",
           "lakecolor": "white",
           "landcolor": "white",
           "showlakes": true,
           "showland": true,
           "subunitcolor": "#C8D4E3"
          },
          "hoverlabel": {
           "align": "left"
          },
          "hovermode": "closest",
          "mapbox": {
           "style": "light"
          },
          "paper_bgcolor": "white",
          "plot_bgcolor": "white",
          "polar": {
           "angularaxis": {
            "gridcolor": "#EBF0F8",
            "linecolor": "#EBF0F8",
            "ticks": ""
           },
           "bgcolor": "white",
           "radialaxis": {
            "gridcolor": "#EBF0F8",
            "linecolor": "#EBF0F8",
            "ticks": ""
           }
          },
          "scene": {
           "xaxis": {
            "backgroundcolor": "white",
            "gridcolor": "#DFE8F3",
            "gridwidth": 2,
            "linecolor": "#EBF0F8",
            "showbackground": true,
            "ticks": "",
            "zerolinecolor": "#EBF0F8"
           },
           "yaxis": {
            "backgroundcolor": "white",
            "gridcolor": "#DFE8F3",
            "gridwidth": 2,
            "linecolor": "#EBF0F8",
            "showbackground": true,
            "ticks": "",
            "zerolinecolor": "#EBF0F8"
           },
           "zaxis": {
            "backgroundcolor": "white",
            "gridcolor": "#DFE8F3",
            "gridwidth": 2,
            "linecolor": "#EBF0F8",
            "showbackground": true,
            "ticks": "",
            "zerolinecolor": "#EBF0F8"
           }
          },
          "shapedefaults": {
           "line": {
            "color": "#2a3f5f"
           }
          },
          "ternary": {
           "aaxis": {
            "gridcolor": "#DFE8F3",
            "linecolor": "#A2B1C6",
            "ticks": ""
           },
           "baxis": {
            "gridcolor": "#DFE8F3",
            "linecolor": "#A2B1C6",
            "ticks": ""
           },
           "bgcolor": "white",
           "caxis": {
            "gridcolor": "#DFE8F3",
            "linecolor": "#A2B1C6",
            "ticks": ""
           }
          },
          "title": {
           "x": 0.05
          },
          "xaxis": {
           "automargin": true,
           "gridcolor": "#EBF0F8",
           "linecolor": "#EBF0F8",
           "ticks": "",
           "title": {
            "standoff": 15
           },
           "zerolinecolor": "#EBF0F8",
           "zerolinewidth": 2
          },
          "yaxis": {
           "automargin": true,
           "gridcolor": "#EBF0F8",
           "linecolor": "#EBF0F8",
           "ticks": "",
           "title": {
            "standoff": 15
           },
           "zerolinecolor": "#EBF0F8",
           "zerolinewidth": 2
          }
         }
        },
        "title": {
         "text": "Formation Energy Diagrams"
        },
        "xaxis": {
         "showgrid": false,
         "title": {
          "text": "Fermi Level (eV)"
         }
        },
        "yaxis": {
         "showgrid": false,
         "title": {
          "text": "Formation Energy (eV)"
         }
        }
       }
      },
      "image/png": "[encoded data removed]",
      "text/html": [
       "<div>                            <div id=\"0fc5270a-4a69-4b6b-ad2e-112239c14ea9\" class=\"plotly-graph-div\" style=\"height:525px; width:100%;\"></div>            <script type=\"text/javascript\">                require([\"plotly\"], function(Plotly) {                    window.PLOTLYENV=window.PLOTLYENV || {};                                    if (document.getElementById(\"0fc5270a-4a69-4b6b-ad2e-112239c14ea9\")) {                    Plotly.newPlot(                        \"0fc5270a-4a69-4b6b-ad2e-112239c14ea9\",                        [{\"hoverinfo\":\"x\",\"line\":{\"color\":\"#4C78A8\",\"dash\":\"solid\"},\"meta\":{\"formation_energy_plot\":true},\"mode\":\"lines+markers\",\"name\":\"Ga_N\",\"textposition\":\"top right\",\"x\":[0,2.079211860000007,2.2869951300000597,4.2304],\"y\":[7.1610917591666725,9.24030361916668,9.24030361916668,7.296898749166739],\"type\":\"scatter\"},{\"hoverinfo\":\"x\",\"line\":{\"color\":\"#F58518\",\"dash\":\"solid\"},\"meta\":{\"formation_energy_plot\":true},\"mode\":\"lines+markers\",\"name\":\"Ga_i:0\",\"textposition\":\"top right\",\"x\":[0,3.932427974999959,4.2304],\"y\":[6.853644480416729,10.786072455416688,10.488100430416647],\"type\":\"scatter\"},{\"hoverinfo\":\"x\",\"line\":{\"color\":\"#E45756\",\"dash\":\"solid\"},\"meta\":{\"formation_energy_plot\":true},\"mode\":\"lines+markers\",\"name\":\"Ga_i:1\",\"textposition\":\"top right\",\"x\":[0,3.406879640000077,3.4070033700000035,4.2304],\"y\":[7.332705100416656,10.739584740416733,10.739584740416733,9.916188110416737],\"type\":\"scatter\"},{\"hoverinfo\":\"x\",\"line\":{\"color\":\"#72B7B2\",\"dash\":\"solid\"},\"meta\":{\"formation_energy_plot\":true},\"mode\":\"lines+markers\",\"name\":\"N_Ga\",\"textposition\":\"top right\",\"x\":[0,1.6793451999999918,4.2304],\"y\":[5.243300980833335,6.922646180833327,4.371591380833318],\"type\":\"scatter\"},{\"hoverinfo\":\"x\",\"line\":{\"color\":\"#54A24B\",\"dash\":\"solid\"},\"meta\":{\"formation_energy_plot\":true},\"mode\":\"lines+markers\",\"name\":\"N_i:0\",\"textposition\":\"top right\",\"x\":[0,1.4779926999999793,1.932288350000043,4.2304],\"y\":[6.322314251250032,7.800306951250011,7.800306951250011,5.502195301250054],\"type\":\"scatter\"},{\"hoverinfo\":\"x\",\"line\":{\"color\":\"#EECA3B\",\"dash\":\"solid\"},\"meta\":{\"formation_energy_plot\":true},\"mode\":\"lines+markers\",\"name\":\"N_i:1\",\"textposition\":\"top right\",\"x\":[0,1.5556560599999534,2.1371546299999613,4.2304],\"y\":[3.848591921250045,5.404247981249998,5.404247981249998,3.3110026112499593],\"type\":\"scatter\"},{\"hoverinfo\":\"x\",\"line\":{\"color\":\"#B279A2\",\"dash\":\"solid\"},\"meta\":{\"formation_energy_plot\":true},\"mode\":\"lines+markers\",\"name\":\"v_Ga\",\"textposition\":\"top right\",\"x\":[0,0.021019160000000703,0.600369029999988,4.2304],\"y\":[6.105610729583325,6.1266298895833256,6.1266298895833256,2.496598919583313],\"type\":\"scatter\"},{\"hoverinfo\":\"x\",\"line\":{\"color\":\"#FF9DA6\",\"dash\":\"solid\"},\"meta\":{\"formation_energy_plot\":true},\"mode\":\"lines+markers\",\"name\":\"v_N\",\"textposition\":\"top right\",\"x\":[0,2.8363563999999633,2.8937441600000033,4.2304],\"y\":[1.5171338987499938,4.353490298749957,4.353490298749957,3.01683445874996],\"type\":\"scatter\"},{\"hoverinfo\":\"skip\",\"mode\":\"text\",\"name\":\"Ga_N:slope\",\"showlegend\":false,\"text\":[\"1\",\"0\",\"-1\"],\"textfont\":{\"color\":\"#4C78A8\"},\"textposition\":\"top center\",\"x\":[1.0396059300000036,2.1831034950000334,3.25869756500003],\"y\":[8.200697689166676,9.24030361916668,8.268601184166709],\"type\":\"scatter\"},{\"hoverinfo\":\"skip\",\"mode\":\"text\",\"name\":\"Ga_i:0:slope\",\"showlegend\":false,\"text\":[\"1\",\"-1\"],\"textfont\":{\"color\":\"#F58518\"},\"textposition\":\"top center\",\"x\":[1.9662139874999796,4.08141398749998],\"y\":[8.819858467916708,10.637086442916669],\"type\":\"scatter\"},{\"hoverinfo\":\"skip\",\"mode\":\"text\",\"name\":\"Ga_i:1:slope\",\"showlegend\":false,\"text\":[\"1\",\"0\",\"-1\"],\"textfont\":{\"color\":\"#E45756\"},\"textposition\":\"top center\",\"x\":[1.7034398200000385,3.4069415050000402,3.818701685000002],\"y\":[9.036144920416694,10.739584740416733,10.327886425416736],\"type\":\"scatter\"},{\"hoverinfo\":\"skip\",\"mode\":\"text\",\"name\":\"N_Ga:slope\",\"showlegend\":false,\"text\":[\"1\",\"-1\"],\"textfont\":{\"color\":\"#72B7B2\"},\"textposition\":\"top center\",\"x\":[0.8396725999999959,2.9548725999999963],\"y\":[6.082973580833331,5.647118780833322],\"type\":\"scatter\"},{\"hoverinfo\":\"skip\",\"mode\":\"text\",\"name\":\"N_i:0:slope\",\"showlegend\":false,\"text\":[\"1\",\"0\",\"-1\"],\"textfont\":{\"color\":\"#54A24B\"},\"textposition\":\"top center\",\"x\":[0.7389963499999896,1.7051405250000111,3.0813441750000217],\"y\":[7.061310601250021,7.800306951250011,6.651251126250033],\"type\":\"scatter\"},{\"hoverinfo\":\"skip\",\"mode\":\"text\",\"name\":\"N_i:1:slope\",\"showlegend\":false,\"text\":[\"1\",\"0\",\"-1\"],\"textfont\":{\"color\":\"#EECA3B\"},\"textposition\":\"top center\",\"x\":[0.7778280299999767,1.8464053449999573,3.183777314999981],\"y\":[4.626419951250021,5.404247981249998,4.357625296249979],\"type\":\"scatter\"},{\"hoverinfo\":\"skip\",\"mode\":\"text\",\"name\":\"v_Ga:slope\",\"showlegend\":false,\"text\":[\"1\",\"0\",\"-1\"],\"textfont\":{\"color\":\"#B279A2\"},\"textposition\":\"top center\",\"x\":[0.010509580000000351,0.31069409499999434,2.415384514999994],\"y\":[6.116120309583325,6.1266298895833256,4.311614404583319],\"type\":\"scatter\"},{\"hoverinfo\":\"skip\",\"mode\":\"text\",\"name\":\"v_N:slope\",\"showlegend\":false,\"text\":[\"1\",\"0\",\"-1\"],\"textfont\":{\"color\":\"#FF9DA6\"},\"textposition\":\"top center\",\"x\":[1.4181781999999816,2.8650502799999833,3.562072080000002],\"y\":[2.9353120987499755,4.353490298749957,3.6851623787499586],\"type\":\"scatter\"}],                        {\"template\":{\"data\":{\"barpolar\":[{\"marker\":{\"line\":{\"color\":\"white\",\"width\":0.5},\"pattern\":{\"fillmode\":\"overlay\",\"size\":10,\"solidity\":0.2}},\"type\":\"barpolar\"}],\"bar\":[{\"error_x\":{\"color\":\"#2a3f5f\"},\"error_y\":{\"color\":\"#2a3f5f\"},\"marker\":{\"line\":{\"color\":\"white\",\"width\":0.5},\"pattern\":{\"fillmode\":\"overlay\",\"size\":10,\"solidity\":0.2}},\"type\":\"bar\"}],\"carpet\":[{\"aaxis\":{\"endlinecolor\":\"#2a3f5f\",\"gridcolor\":\"#C8D4E3\",\"linecolor\":\"#C8D4E3\",\"minorgridcolor\":\"#C8D4E3\",\"startlinecolor\":\"#2a3f5f\"},\"baxis\":{\"endlinecolor\":\"#2a3f5f\",\"gridcolor\":\"#C8D4E3\",\"linecolor\":\"#C8D4E3\",\"minorgridcolor\":\"#C8D4E3\",\"startlinecolor\":\"#2a3f5f\"},\"type\":\"carpet\"}],\"choropleth\":[{\"colorbar\":{\"outlinewidth\":0,\"ticks\":\"\"},\"type\":\"choropleth\"}],\"contourcarpet\":[{\"colorbar\":{\"outlinewidth\":0,\"ticks\":\"\"},\"type\":\"contourcarpet\"}],\"contour\":[{\"colorbar\":{\"outlinewidth\":0,\"ticks\":\"\"},\"colorscale\":[[0.0,\"#0d0887\"],[0.1111111111111111,\"#46039f\"],[0.2222222222222222,\"#7201a8\"],[0.3333333333333333,\"#9c179e\"],[0.4444444444444444,\"#bd3786\"],[0.5555555555555556,\"#d8576b\"],[0.6666666666666666,\"#ed7953\"],[0.7777777777777778,\"#fb9f3a\"],[0.8888888888888888,\"#fdca26\"],[1.0,\"#f0f921\"]],\"type\":\"contour\"}],\"heatmapgl\":[{\"colorbar\":{\"outlinewidth\":0,\"ticks\":\"\"},\"colorscale\":[[0.0,\"#0d0887\"],[0.1111111111111111,\"#46039f\"],[0.2222222222222222,\"#7201a8\"],[0.3333333333333333,\"#9c179e\"],[0.4444444444444444,\"#bd3786\"],[0.5555555555555556,\"#d8576b\"],[0.6666666666666666,\"#ed7953\"],[0.7777777777777778,\"#fb9f3a\"],[0.8888888888888888,\"#fdca26\"],[1.0,\"#f0f921\"]],\"type\":\"heatmapgl\"}],\"heatmap\":[{\"colorbar\":{\"outlinewidth\":0,\"ticks\":\"\"},\"colorscale\":[[0.0,\"#0d0887\"],[0.1111111111111111,\"#46039f\"],[0.2222222222222222,\"#7201a8\"],[0.3333333333333333,\"#9c179e\"],[0.4444444444444444,\"#bd3786\"],[0.5555555555555556,\"#d8576b\"],[0.6666666666666666,\"#ed7953\"],[0.7777777777777778,\"#fb9f3a\"],[0.8888888888888888,\"#fdca26\"],[1.0,\"#f0f921\"]],\"type\":\"heatmap\"}],\"histogram2dcontour\":[{\"colorbar\":{\"outlinewidth\":0,\"ticks\":\"\"},\"colorscale\":[[0.0,\"#0d0887\"],[0.1111111111111111,\"#46039f\"],[0.2222222222222222,\"#7201a8\"],[0.3333333333333333,\"#9c179e\"],[0.4444444444444444,\"#bd3786\"],[0.5555555555555556,\"#d8576b\"],[0.6666666666666666,\"#ed7953\"],[0.7777777777777778,\"#fb9f3a\"],[0.8888888888888888,\"#fdca26\"],[1.0,\"#f0f921\"]],\"type\":\"histogram2dcontour\"}],\"histogram2d\":[{\"colorbar\":{\"outlinewidth\":0,\"ticks\":\"\"},\"colorscale\":[[0.0,\"#0d0887\"],[0.1111111111111111,\"#46039f\"],[0.2222222222222222,\"#7201a8\"],[0.3333333333333333,\"#9c179e\"],[0.4444444444444444,\"#bd3786\"],[0.5555555555555556,\"#d8576b\"],[0.6666666666666666,\"#ed7953\"],[0.7777777777777778,\"#fb9f3a\"],[0.8888888888888888,\"#fdca26\"],[1.0,\"#f0f921\"]],\"type\":\"histogram2d\"}],\"histogram\":[{\"marker\":{\"pattern\":{\"fillmode\":\"overlay\",\"size\":10,\"solidity\":0.2}},\"type\":\"histogram\"}],\"mesh3d\":[{\"colorbar\":{\"outlinewidth\":0,\"ticks\":\"\"},\"type\":\"mesh3d\"}],\"parcoords\":[{\"line\":{\"colorbar\":{\"outlinewidth\":0,\"ticks\":\"\"}},\"type\":\"parcoords\"}],\"pie\":[{\"automargin\":true,\"type\":\"pie\"}],\"scatter3d\":[{\"line\":{\"colorbar\":{\"outlinewidth\":0,\"ticks\":\"\"}},\"marker\":{\"colorbar\":{\"outlinewidth\":0,\"ticks\":\"\"}},\"type\":\"scatter3d\"}],\"scattercarpet\":[{\"marker\":{\"colorbar\":{\"outlinewidth\":0,\"ticks\":\"\"}},\"type\":\"scattercarpet\"}],\"scattergeo\":[{\"marker\":{\"colorbar\":{\"outlinewidth\":0,\"ticks\":\"\"}},\"type\":\"scattergeo\"}],\"scattergl\":[{\"marker\":{\"colorbar\":{\"outlinewidth\":0,\"ticks\":\"\"}},\"type\":\"scattergl\"}],\"scattermapbox\":[{\"marker\":{\"colorbar\":{\"outlinewidth\":0,\"ticks\":\"\"}},\"type\":\"scattermapbox\"}],\"scatterpolargl\":[{\"marker\":{\"colorbar\":{\"outlinewidth\":0,\"ticks\":\"\"}},\"type\":\"scatterpolargl\"}],\"scatterpolar\":[{\"marker\":{\"colorbar\":{\"outlinewidth\":0,\"ticks\":\"\"}},\"type\":\"scatterpolar\"}],\"scatter\":[{\"fillpattern\":{\"fillmode\":\"overlay\",\"size\":10,\"solidity\":0.2},\"type\":\"scatter\"}],\"scatterternary\":[{\"marker\":{\"colorbar\":{\"outlinewidth\":0,\"ticks\":\"\"}},\"type\":\"scatterternary\"}],\"surface\":[{\"colorbar\":{\"outlinewidth\":0,\"ticks\":\"\"},\"colorscale\":[[0.0,\"#0d0887\"],[0.1111111111111111,\"#46039f\"],[0.2222222222222222,\"#7201a8\"],[0.3333333333333333,\"#9c179e\"],[0.4444444444444444,\"#bd3786\"],[0.5555555555555556,\"#d8576b\"],[0.6666666666666666,\"#ed7953\"],[0.7777777777777778,\"#fb9f3a\"],[0.8888888888888888,\"#fdca26\"],[1.0,\"#f0f921\"]],\"type\":\"surface\"}],\"table\":[{\"cells\":{\"fill\":{\"color\":\"#EBF0F8\"},\"line\":{\"color\":\"white\"}},\"header\":{\"fill\":{\"color\":\"#C8D4E3\"},\"line\":{\"color\":\"white\"}},\"type\":\"table\"}]},\"layout\":{\"annotationdefaults\":{\"arrowcolor\":\"#2a3f5f\",\"arrowhead\":0,\"arrowwidth\":1},\"autotypenumbers\":\"strict\",\"coloraxis\":{\"colorbar\":{\"outlinewidth\":0,\"ticks\":\"\"}},\"colorscale\":{\"diverging\":[[0,\"#8e0152\"],[0.1,\"#c51b7d\"],[0.2,\"#de77ae\"],[0.3,\"#f1b6da\"],[0.4,\"#fde0ef\"],[0.5,\"#f7f7f7\"],[0.6,\"#e6f5d0\"],[0.7,\"#b8e186\"],[0.8,\"#7fbc41\"],[0.9,\"#4d9221\"],[1,\"#276419\"]],\"sequential\":[[0.0,\"#0d0887\"],[0.1111111111111111,\"#46039f\"],[0.2222222222222222,\"#7201a8\"],[0.3333333333333333,\"#9c179e\"],[0.4444444444444444,\"#bd3786\"],[0.5555555555555556,\"#d8576b\"],[0.6666666666666666,\"#ed7953\"],[0.7777777777777778,\"#fb9f3a\"],[0.8888888888888888,\"#fdca26\"],[1.0,\"#f0f921\"]],\"sequentialminus\":[[0.0,\"#0d0887\"],[0.1111111111111111,\"#46039f\"],[0.2222222222222222,\"#7201a8\"],[0.3333333333333333,\"#9c179e\"],[0.4444444444444444,\"#bd3786\"],[0.5555555555555556,\"#d8576b\"],[0.6666666666666666,\"#ed7953\"],[0.7777777777777778,\"#fb9f3a\"],[0.8888888888888888,\"#fdca26\"],[1.0,\"#f0f921\"]]},\"colorway\":[\"#636efa\",\"#EF553B\",\"#00cc96\",\"#ab63fa\",\"#FFA15A\",\"#19d3f3\",\"#FF6692\",\"#B6E880\",\"#FF97FF\",\"#FECB52\"],\"font\":{\"color\":\"#2a3f5f\"},\"geo\":{\"bgcolor\":\"white\",\"lakecolor\":\"white\",\"landcolor\":\"white\",\"showlakes\":true,\"showland\":true,\"subunitcolor\":\"#C8D4E3\"},\"hoverlabel\":{\"align\":\"left\"},\"hovermode\":\"closest\",\"mapbox\":{\"style\":\"light\"},\"paper_bgcolor\":\"white\",\"plot_bgcolor\":\"white\",\"polar\":{\"angularaxis\":{\"gridcolor\":\"#EBF0F8\",\"linecolor\":\"#EBF0F8\",\"ticks\":\"\"},\"bgcolor\":\"white\",\"radialaxis\":{\"gridcolor\":\"#EBF0F8\",\"linecolor\":\"#EBF0F8\",\"ticks\":\"\"}},\"scene\":{\"xaxis\":{\"backgroundcolor\":\"white\",\"gridcolor\":\"#DFE8F3\",\"gridwidth\":2,\"linecolor\":\"#EBF0F8\",\"showbackground\":true,\"ticks\":\"\",\"zerolinecolor\":\"#EBF0F8\"},\"yaxis\":{\"backgroundcolor\":\"white\",\"gridcolor\":\"#DFE8F3\",\"gridwidth\":2,\"linecolor\":\"#EBF0F8\",\"showbackground\":true,\"ticks\":\"\",\"zerolinecolor\":\"#EBF0F8\"},\"zaxis\":{\"backgroundcolor\":\"white\",\"gridcolor\":\"#DFE8F3\",\"gridwidth\":2,\"linecolor\":\"#EBF0F8\",\"showbackground\":true,\"ticks\":\"\",\"zerolinecolor\":\"#EBF0F8\"}},\"shapedefaults\":{\"line\":{\"color\":\"#2a3f5f\"}},\"ternary\":{\"aaxis\":{\"gridcolor\":\"#DFE8F3\",\"linecolor\":\"#A2B1C6\",\"ticks\":\"\"},\"baxis\":{\"gridcolor\":\"#DFE8F3\",\"linecolor\":\"#A2B1C6\",\"ticks\":\"\"},\"bgcolor\":\"white\",\"caxis\":{\"gridcolor\":\"#DFE8F3\",\"linecolor\":\"#A2B1C6\",\"ticks\":\"\"}},\"title\":{\"x\":0.05},\"xaxis\":{\"automargin\":true,\"gridcolor\":\"#EBF0F8\",\"linecolor\":\"#EBF0F8\",\"ticks\":\"\",\"title\":{\"standoff\":15},\"zerolinecolor\":\"#EBF0F8\",\"zerolinewidth\":2},\"yaxis\":{\"automargin\":true,\"gridcolor\":\"#EBF0F8\",\"linecolor\":\"#EBF0F8\",\"ticks\":\"\",\"title\":{\"standoff\":15},\"zerolinecolor\":\"#EBF0F8\",\"zerolinewidth\":2}}},\"annotations\":[{\"arrowcolor\":\"#4C78A8\",\"bgcolor\":\"white\",\"bordercolor\":\"#4C78A8\",\"font\":{\"color\":\"#4C78A8\"},\"text\":\"Ga_N\",\"x\":0.2644,\"y\":7.425491759166673},{\"arrowcolor\":\"#F58518\",\"bgcolor\":\"white\",\"bordercolor\":\"#F58518\",\"font\":{\"color\":\"#F58518\"},\"text\":\"Ga_i:0\",\"x\":0.7932000000000001,\"y\":7.646844480416729},{\"arrowcolor\":\"#E45756\",\"bgcolor\":\"white\",\"bordercolor\":\"#E45756\",\"font\":{\"color\":\"#E45756\"},\"text\":\"Ga_i:1\",\"x\":1.322,\"y\":8.654705100416656},{\"arrowcolor\":\"#72B7B2\",\"bgcolor\":\"white\",\"bordercolor\":\"#72B7B2\",\"font\":{\"color\":\"#72B7B2\"},\"text\":\"N_Ga\",\"x\":1.8508000000000002,\"y\":6.751191380833319},{\"arrowcolor\":\"#54A24B\",\"bgcolor\":\"white\",\"bordercolor\":\"#54A24B\",\"font\":{\"color\":\"#54A24B\"},\"text\":\"N_i:0\",\"x\":2.3796000000000004,\"y\":7.352995301250054},{\"arrowcolor\":\"#EECA3B\",\"bgcolor\":\"white\",\"bordercolor\":\"#EECA3B\",\"font\":{\"color\":\"#EECA3B\"},\"text\":\"N_i:1\",\"x\":2.9084000000000003,\"y\":4.633002611249959},{\"arrowcolor\":\"#B279A2\",\"bgcolor\":\"white\",\"bordercolor\":\"#B279A2\",\"font\":{\"color\":\"#B279A2\"},\"text\":\"v_Ga\",\"x\":3.4372000000000007,\"y\":3.289798919583313},{\"arrowcolor\":\"#FF9DA6\",\"bgcolor\":\"white\",\"bordercolor\":\"#FF9DA6\",\"font\":{\"color\":\"#FF9DA6\"},\"text\":\"v_N\",\"x\":3.9660000000000006,\"y\":3.28123445874996}],\"font\":{\"family\":\"Helvetica\"},\"xaxis\":{\"title\":{\"text\":\"Fermi Level (eV)\"},\"showgrid\":false},\"yaxis\":{\"title\":{\"text\":\"Formation Energy (eV)\"},\"showgrid\":false},\"title\":{\"text\":\"Formation Energy Diagrams\"},\"showlegend\":false},                        {\"responsive\": true}                    ).then(function(){\n",
       "                            \n",
       "var gd = document.getElementById('0fc5270a-4a69-4b6b-ad2e-112239c14ea9');\n",
       "var x = new MutationObserver(function (mutations, observer) {{\n",
       "        var display = window.getComputedStyle(gd).display;\n",
       "        if (!display || display === 'none') {{\n",
       "            console.log([gd, 'removed!']);\n",
       "            Plotly.purge(gd);\n",
       "            observer.disconnect();\n",
       "        }}\n",
       "}});\n",
       "\n",
       "// Listen for the removal of the full notebook cells\n",
       "var notebookContainer = gd.closest('#notebook-container');\n",
       "if (notebookContainer) {{\n",
       "    x.observe(notebookContainer, {childList: true});\n",
       "}}\n",
       "\n",
       "// Listen for the clearing of the current output cell\n",
       "var outputEl = gd.closest('.output');\n",
       "if (outputEl) {{\n",
       "    x.observe(outputEl, {childList: true});\n",
       "}}\n",
       "\n",
       "                        })                };                });            </script>        </div>"
      ]
     },
     "metadata": {},
     "output_type": "display_data"
    }
   ],
   "source": [
    "chempot = fed.get_chempots(rich_element=\"N\")\n",
    "plot_formation_energy_diagrams(formation_energies_diagrams, chempot=chempot)"
   ]
  },
  {
   "cell_type": "code",
   "execution_count": null,
   "metadata": {},
   "outputs": [],
   "source": []
  }
 ],
 "metadata": {
  "kernelspec": {
   "display_name": "Python (af)",
   "language": "python",
   "name": "af"
  },
  "language_info": {
   "codemirror_mode": {
    "name": "ipython",
    "version": 3
   },
   "file_extension": ".py",
   "mimetype": "text/x-python",
   "name": "python",
   "nbconvert_exporter": "python",
   "pygments_lexer": "ipython3",
   "version": "3.12.9"
  }
 },
 "nbformat": 4,
 "nbformat_minor": 4
}
