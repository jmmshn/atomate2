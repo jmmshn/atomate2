{
 "cells": [
  {
   "cell_type": "markdown",
   "metadata": {},
   "source": [
    "# Running Charged Defect Calculation\n"
   ]
  },
  {
   "cell_type": "code",
   "execution_count": 7,
   "metadata": {},
   "outputs": [],
   "source": [
    "# First make sure that the defect analysis add-on is installed\n",
    "# If the defect package is not installed, uncomment the following line\n",
    "# !pip install pymatgen-analysis-defects;"
   ]
  },
  {
   "cell_type": "code",
   "execution_count": 12,
   "metadata": {},
   "outputs": [],
   "source": [
    "from pymatgen.ext.matproj import MPRester\n",
    "from pymatgen.analysis.defects.generators import (\n",
    "    ChargeInterstitialGenerator,\n",
    "    SubstitutionGenerator,\n",
    "    VacancyGenerator,\n",
    ")\n",
    "import itertools\n",
    "\n",
    "\n"
   ]
  },
  {
   "cell_type": "markdown",
   "metadata": {},
   "source": [
    "## Generate the Defect Objects from MP Charge Density\n",
    "\n",
    "The vacancies and substitutional defects can be generated from the structure alone.\n",
    "\n",
    "But interstitial are best generated using the electronic charge density.\n",
    "\n",
    "We can download the charge density from the Materials Project and use it to generate all of the native point defects."
   ]
  },
  {
   "cell_type": "code",
   "execution_count": null,
   "metadata": {},
   "outputs": [
    {
     "name": "stderr",
     "output_type": "stream",
     "text": [
      "Retrieving MaterialsDoc documents: 100%|██████████| 1/1 [00:00<00:00, 24385.49it/s]\n",
      "Retrieving TaskDoc documents: 100%|██████████| 6/6 [00:00<00:00, 167772.16it/s]\n"
     ]
    }
   ],
   "source": [
    "\n",
    "# Make sure that you have the full featured API installed \n",
    "# via `pip install mp-api`\n",
    "mpr = MPRester() # or add your own API key as an argument here\n",
    "chgcar = mpr.get_charge_density_from_material_id(\"mp-804\")\n"
   ]
  },
  {
   "cell_type": "markdown",
   "metadata": {},
   "source": [
    "You can get the enumerate over different speices involved in the\n",
    "vacancy, interstitial and substitutions using the helper functions\n",
    "below."
   ]
  },
  {
   "cell_type": "code",
   "execution_count": 13,
   "metadata": {},
   "outputs": [
    {
     "name": "stdout",
     "output_type": "stream",
     "text": [
      "(('Ga',), ('N',))\n",
      "({'Ga': 'N'}, {'N': 'Ga'})\n"
     ]
    }
   ],
   "source": [
    "def _get_elements(struct) -> tuple[tuple[str], ...]:\n",
    "    \"\"\"Get the elements involved in the structures.\"\"\"\n",
    "    s_atoms = sorted(atom.symbol for atom in struct.elements)\n",
    "    return tuple((aa_,) for aa_ in s_atoms)\n",
    "\n",
    "\n",
    "def _get_subs(struct) -> tuple[dict[str, str], ...]:\n",
    "    \"\"\"Get native substitutions.\"\"\"\n",
    "    s_atoms = sorted(atom.symbol for atom in struct.elements)\n",
    "    return tuple(\n",
    "        itertools.chain.from_iterable(\n",
    "            ({a: b}, {b: a}) for a, b in itertools.combinations(s_atoms, 2)\n",
    "        )\n",
    "    )\n",
    "\n",
    "print(_get_elements(chgcar.structure))\n",
    "print(_get_subs(chgcar.structure))"
   ]
  },
  {
   "cell_type": "markdown",
   "metadata": {},
   "source": [
    "The different defect generators are available in the `pymatgen.analysis.defects` module each with their own set of tolerances parameters.\n",
    "\n",
    "Once those are configured,"
   ]
  },
  {
   "cell_type": "code",
   "execution_count": 16,
   "metadata": {},
   "outputs": [],
   "source": [
    "VGEN = VacancyGenerator(symprec = 0.01)\n",
    "IGEN = ChargeInterstitialGenerator(max_insertions=3)\n",
    "SGEN = SubstitutionGenerator(angle_tolerance=5)\n"
   ]
  },
  {
   "cell_type": "code",
   "execution_count": 17,
   "metadata": {},
   "outputs": [],
   "source": [
    "def get_defects(chgcar, max_iter: int = 3):\n",
    "    \"\"\"Generate the defects for a chgcar.\n",
    "    \n",
    "    Args:\n",
    "        chgcar: The chgcar object.\n",
    "        max_iter: The maximum number of defects of each type to generate.\n",
    "    \n",
    "    Returns:\n",
    "        A generator of (defect, index) pairs.\n",
    "    \"\"\"\n",
    "    tup_el = _get_elements(chgcar.structure)\n",
    "    tup_sub = _get_subs(chgcar.structure)\n",
    "    for sub_d in tup_sub:\n",
    "        for ii, defect in enumerate(SGEN.generate(chgcar.structure, sub_d)):\n",
    "            if ii < max_iter:\n",
    "                yield defect, ii\n",
    "\n",
    "    for el in tup_el:\n",
    "        for ii, defect in enumerate(VGEN.generate(chgcar.structure, el)):\n",
    "            if ii < max_iter:\n",
    "                yield defect, ii\n",
    "\n",
    "    for el in tup_el:\n",
    "        for ii, defect in enumerate(\n",
    "            IGEN.generate(\n",
    "                chgcar,\n",
    "                el,\n",
    "            )\n",
    "        ):\n",
    "            if ii < max_iter:\n",
    "                yield defect, ii"
   ]
  },
  {
   "cell_type": "code",
   "execution_count": 18,
   "metadata": {},
   "outputs": [
    {
     "name": "stdout",
     "output_type": "stream",
     "text": [
      "N subsitituted on the Ga site at at site #0 0\n",
      "Ga subsitituted on the N site at at site #2 0\n",
      "Ga Vacancy defect at site #0 0\n",
      "N Vacancy defect at site #2 0\n",
      "Ga intersitial site at [0.00,0.00,0.20] 0\n",
      "Ga intersitial site at [0.35,0.65,0.69] 1\n",
      "N intersitial site at [0.00,0.00,0.20] 0\n",
      "N intersitial site at [0.35,0.65,0.69] 1\n"
     ]
    }
   ],
   "source": [
    "for defect, defect_index in get_defects(chgcar):\n",
    "    print(defect, defect_index)"
   ]
  },
  {
   "cell_type": "markdown",
   "metadata": {},
   "source": [
    "These generators find 8 defects in the structure.\n",
    "2 vacancies, 2 substitutions, and 4 interstitials.\n"
   ]
  },
  {
   "cell_type": "code",
   "execution_count": 19,
   "metadata": {},
   "outputs": [],
   "source": [
    "from atomate2.vasp.flows.defect import FormationEnergyMaker\n",
    "from atomate2.vasp.flows.mp import MP24DoubleRelaxMaker, MP24StaticMaker, MP24RelaxMaker\n",
    "from atomate2.vasp.sets.defect import SPECIAL_KPOINT\n",
    "from pymatgen.io.vasp.sets import MP24RelaxSet\n",
    "\n",
    "DEFECT_RELAX_SC = MP24RelaxMaker(\n",
    "        input_set_generator=MP24RelaxSet(\n",
    "            use_structure_charge=True,\n",
    "            user_incar_settings={ \"ISIF\": 2 }\n",
    "        ),\n",
    "        task_document_kwargs={\"store_volumetric_data\": [\"locpot\"]},\n",
    "    )\n",
    "BULK_RELAX_SC = MP24DoubleRelaxMaker()\n",
    "\n",
    "maker = FormationEnergyMaker(\n",
    "    bulk_relax_maker = MP24DoubleRelaxMaker(),\n",
    "    defect_relax_maker = DEFECT_RELAX_SC,\n",
    "    collect_defect_entry_data = True,\n",
    ")\n"
   ]
  },
  {
   "cell_type": "code",
   "execution_count": null,
   "metadata": {},
   "outputs": [
    {
     "name": "stdout",
     "output_type": "stream",
     "text": [
      "Flow(name='formation energy', uuid='2467c5f3-79d5-49b3-87e3-15d501644405')\n",
      "1. Job(name='bulk supercell', uuid='894c2c65-0226-48cb-9594-571a761d4f95')\n",
      "2. Job(name='spawn_defect_q_jobs', uuid='1f7008e4-b532-4102-9491-75a9f82c69a9')\n",
      "3. Job(name='get_defect_entry', uuid='e4a2c3a6-38d7-47a3-9970-85fd8a6bb867')\n",
      "Flow(name='formation energy', uuid='1831b043-0fea-4839-ab3d-0060d424416f')\n",
      "1. Job(name='bulk supercell', uuid='3b5fa92f-1a8a-4b59-894a-92e2735e78e0')\n",
      "2. Job(name='spawn_defect_q_jobs', uuid='3434e760-7a9e-4200-bc5b-bbd0f7128e5c')\n",
      "3. Job(name='get_defect_entry', uuid='b2d418ee-ed5d-4e58-aec6-785b6b349914')\n",
      "Flow(name='formation energy', uuid='fac82394-bf86-4cb0-9e39-6f646bf87916')\n",
      "1. Job(name='bulk supercell', uuid='cf65035e-a274-4367-9f65-e048be18401c')\n",
      "2. Job(name='spawn_defect_q_jobs', uuid='2608b45c-4419-49e0-bbb4-80187366852f')\n",
      "3. Job(name='get_defect_entry', uuid='62854c46-70dd-4553-939d-fbbe6ad53651')\n",
      "Flow(name='formation energy', uuid='6265f2b3-e568-472a-be39-b03852ba1d9f')\n",
      "1. Job(name='bulk supercell', uuid='78e7da36-0daa-4ece-8bcc-f8a07175feb0')\n",
      "2. Job(name='spawn_defect_q_jobs', uuid='48a98a54-b0bd-4b1d-a2b7-7ffe9e9a96d6')\n",
      "3. Job(name='get_defect_entry', uuid='d2bc5ebc-7b37-41ca-be6c-3f2466361286')\n",
      "Flow(name='formation energy', uuid='53d649c1-0156-4c88-847c-45a684181153')\n",
      "1. Job(name='bulk supercell', uuid='3aa8f535-a805-49dc-bfeb-92e0f7638fc3')\n",
      "2. Job(name='spawn_defect_q_jobs', uuid='2ff83bba-60bc-44aa-ad6f-19b103418e46')\n",
      "3. Job(name='get_defect_entry', uuid='440e8ea9-e7e3-4a19-85e6-51501f8a95ac')\n",
      "Flow(name='formation energy', uuid='4f145fbf-fa27-479e-be11-3d0099f8d930')\n",
      "1. Job(name='bulk supercell', uuid='aad57c3c-f070-4cd5-a354-adc0a85e6cfb')\n",
      "2. Job(name='spawn_defect_q_jobs', uuid='69887f32-8107-4cc9-80d2-e8172a9e9b82')\n",
      "3. Job(name='get_defect_entry', uuid='fd948319-886b-499a-8e6f-9a104685aca7')\n",
      "Flow(name='formation energy', uuid='5ece7ab6-bf32-419e-8bc0-1cc516d98478')\n",
      "1. Job(name='bulk supercell', uuid='2ace8d04-bec3-4ed2-a239-e3f7d3a3e63b')\n",
      "2. Job(name='spawn_defect_q_jobs', uuid='d2f0db47-f7db-4358-b125-2511214628ea')\n",
      "3. Job(name='get_defect_entry', uuid='8cfc6f36-dac8-4f4d-a028-3f9f6bd51ef4')\n",
      "Flow(name='formation energy', uuid='89c820ba-fa51-4d6b-a519-1497629e09dd')\n",
      "1. Job(name='bulk supercell', uuid='27a2ecdd-a365-4c5c-bf90-03d0e74f2403')\n",
      "2. Job(name='spawn_defect_q_jobs', uuid='7b3882d6-63f0-482d-bb97-e4fd2f07cf99')\n",
      "3. Job(name='get_defect_entry', uuid='84a20aca-71d2-4a28-bc88-225acce21354')\n"
     ]
    }
   ],
   "source": [
    "for defect, defect_index in get_defects(chgcar):\n",
    "    flow = maker.make(defect, defect_index=defect_index)\n",
    "    # submit each flow to the queue and analyze the results\n"
   ]
  },
  {
   "cell_type": "code",
   "execution_count": null,
   "metadata": {},
   "outputs": [],
   "source": []
  },
  {
   "cell_type": "code",
   "execution_count": null,
   "metadata": {},
   "outputs": [],
   "source": []
  },
  {
   "cell_type": "code",
   "execution_count": null,
   "metadata": {},
   "outputs": [],
   "source": []
  }
 ],
 "metadata": {
  "kernelspec": {
   "display_name": "a2",
   "language": "python",
   "name": "python3"
  },
  "language_info": {
   "codemirror_mode": {
    "name": "ipython",
    "version": 3
   },
   "file_extension": ".py",
   "mimetype": "text/x-python",
   "name": "python",
   "nbconvert_exporter": "python",
   "pygments_lexer": "ipython3",
   "version": "3.12.9"
  }
 },
 "nbformat": 4,
 "nbformat_minor": 2
}
